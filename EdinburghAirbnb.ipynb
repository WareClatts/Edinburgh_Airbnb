{
 "cells": [
  {
   "cell_type": "markdown",
   "id": "5ef7a3d4",
   "metadata": {},
   "source": [
    "## Edinburgh AirBnB\n",
    "#### Author: Clare Watts\n",
    "\n",
    "Data:\n",
    "* Recent data from: http://insideairbnb.com/get-the-data.html\n",
    "* 2019 data from: https://www.kaggle.com/thoroc/edinburgh-inside-airbnb?select=calendar.csv\n",
    "\n",
    "Goals:\n",
    "1. Ascertain the effect of the Fringe Festival on the prices of AirBnB lets in Edinburgh\n",
    "2. Find other features related to price\n",
    "3. Try to predict the price of a listing based on details about the property"
   ]
  },
  {
   "cell_type": "markdown",
   "id": "879afe28",
   "metadata": {},
   "source": [
    "# Business Understanding (a brief description of the problem and questions of interest)\n",
    "Airbnb data on price of lets and details of lets is availabe via Inside Airbnb. <br>\n",
    "The problem: Is it possible to ascertain what is a fair price for a room given its location, and details of the property and room. In addition, what factors strongly influence the price, and what is the effect specifically of the Fringe Festival in August?"
   ]
  },
  {
   "cell_type": "markdown",
   "id": "9994badb",
   "metadata": {},
   "source": [
    "## 1. Perform setup and get data\n",
    "### 1.1 Start Spark session"
   ]
  },
  {
   "cell_type": "code",
   "execution_count": 1,
   "id": "86d92d38",
   "metadata": {
    "tags": []
   },
   "outputs": [],
   "source": [
    "#in the location this code is stored must be a folder called helpers \n",
    "#and in it the spark.py file needs to be stored\n",
    "from helpers.spark import getSpark\n",
    "spark=getSpark()\n",
    "\n",
    "#Import the Java type - Equivilent to the Python \"import\" statement\n",
    "sc = spark.sparkContext\n",
    "SparkHelper = sc._gateway.jvm.com.rbs.edh.spark.utils.SparkHelper\n",
    "\n",
    "#Get the Spark user to determine the home area\n",
    "user = SparkHelper.getSparkUser()\n",
    "username = user\n",
    "password = SparkHelper.Security.getFromHadoopKeyStore(f\"/user/{user}/keystore.jceks\",f\"{user}.pwd\")"
   ]
  },
  {
   "cell_type": "markdown",
   "id": "fdf69ea1",
   "metadata": {},
   "source": [
    "### 1.2 Import libraries and functions"
   ]
  },
  {
   "cell_type": "code",
   "execution_count": 2,
   "id": "3806addc",
   "metadata": {},
   "outputs": [],
   "source": [
    "import datetime\n",
    "import pandas as pd\n",
    "import numpy as np\n",
    "import seaborn as sns\n",
    "import matplotlib.pyplot as plt\n",
    "import statsmodels as sm\n",
    "from sklearn.linear_model import Ridge\n",
    "from sklearn.model_selection import GridSearchCV\n",
    "from sklearn.model_selection import train_test_split\n",
    "from sklearn.metrics import r2_score, mean_squared_error\n",
    "import statsmodels.api as sm\n",
    "from matplotlib import style"
   ]
  },
  {
   "cell_type": "markdown",
   "id": "4c1e41f7",
   "metadata": {},
   "source": [
    "# Data Understanding (Access and Explore)\n",
    "Data is available as csv files. These need to be read in and cleaned/explored. <br>\n",
    "The below section acheives this in the following stages:\n",
    "* Import data\n",
    "* Merge together the data from different .csv files - it can be seen that the calendar files cover short periods of data of advertised prices into the future. There are overlaps in the files, so this will need to be handled to merge the datsets together into one dataset\n",
    "* Once this is done (see Data Prep and Cleaning) data can begin to be visualised"
   ]
  },
  {
   "cell_type": "markdown",
   "id": "59f1773c",
   "metadata": {},
   "source": [
    "### 1.3 Read in data"
   ]
  },
  {
   "cell_type": "code",
   "execution_count": 3,
   "id": "a9aaf5fe",
   "metadata": {},
   "outputs": [],
   "source": [
    "## Calendar data spanning availability on AirBnB website plus an earlier year:\n",
    "calendardf1 = pd.read_csv('./calendar20210308.csv')\n",
    "calendardf2 = pd.read_csv('./calendar20210211.csv')\n",
    "calendardf3 = pd.read_csv('./calendar20200427.csv')\n",
    "calendardf4 = pd.read_csv('./calendar2019.csv')\n",
    "\n",
    "calendardf1['compiled_date'] = '2021-03-08'\n",
    "calendardf2['compiled_date'] = '2021-02-11'\n",
    "calendardf3['compiled_date'] = '2020-04-27'\n",
    "calendardf4['compiled_date'] = '2019'"
   ]
  },
  {
   "cell_type": "code",
   "execution_count": 4,
   "id": "43194e8a",
   "metadata": {},
   "outputs": [
    {
     "name": "stdout",
     "output_type": "stream",
     "text": [
      "calendardf1 first date = 2021-03-08 last date = 2022-03-31\n",
      "calendardf2 first date = 2021-02-11 last date = 2022-02-18\n",
      "calendardf3 first date = 2020-04-27 last date = 2021-04-28\n",
      "calendardf4 first date = 2019-06-25 last date = 2020-06-24\n"
     ]
    }
   ],
   "source": [
    "## Check data\n",
    "dfnames = ['calendardf1', 'calendardf2', 'calendardf3', 'calendardf4']\n",
    "dfs = [calendardf1, calendardf2, calendardf3, calendardf4]\n",
    "for i in range(len(dfnames)):\n",
    "    print(dfnames[i], 'first date =', dfs[i]['date'].min(), 'last date =', dfs[i]['date'].max())"
   ]
  },
  {
   "cell_type": "markdown",
   "id": "43a5cf7f",
   "metadata": {},
   "source": [
    "# Data Preparation (Cleaning)\n",
    "* In order to have the most up to date information, order the merged data by compiled date and pick the most recent values.\n",
    "* For ease of manipulation set the dates as index and order.\n",
    "* Can see that price data contains non-numeric characters - these need to be removed in order to be able to cast this column as a numeric data type (required for calculating mean)\n",
    "* Similar story for listings data, which can be ordered by last_scraped column to merge and take most recent data\n",
    "* Although lots of Nulls are found at this stage in the listings data, since I will be aggregating the data later on they are kept and the nulls will be re-evaluated after aggregation"
   ]
  },
  {
   "cell_type": "markdown",
   "id": "3f2bbeae",
   "metadata": {},
   "source": [
    "## Discussion on categorical variables\n",
    "* From listings data, the columns neighbourhood, property type and room type are hypothesised to be important in determining price. These are non-numeric variables and need to be handled as categorical.\n",
    "* These are handled using the pd.get_dummies method, to produce new columns of each unique value for each categorical variable in the dataset.\n",
    "* After aggregation there are no nulls in the dataset so a separate dummy for this does not need to be created, and no nulls need to be dropped or filled in.\n",
    "    * Note that in the section comparing change in fringe period with percent change in price NaN values are dropped - but these are the first row of data, which are necessarily Null when the change in a value from week to week is computed.\n",
    "* The advantage of this approach in this project is that because I am using linear modles, it order allows for each value for each category to be fitted with its own coefficient, so that strong relationships can be picked out.\n",
    "* The disadvantage of this method is that it produces a lot of columns, and this must be monitored in order to ensure that the number of columns does not exceed around 10% of the number of observations."
   ]
  },
  {
   "cell_type": "markdown",
   "id": "d2712a3e",
   "metadata": {},
   "source": [
    "### 1.4 Clean data"
   ]
  },
  {
   "cell_type": "markdown",
   "id": "7ca71a61",
   "metadata": {},
   "source": [
    "#### 1.4.1 Calendar data"
   ]
  },
  {
   "cell_type": "code",
   "execution_count": 5,
   "id": "dcac9484",
   "metadata": {
    "tags": []
   },
   "outputs": [
    {
     "data": {
      "text/plain": [
       "Series([], Name: available, dtype: int64)"
      ]
     },
     "execution_count": 5,
     "metadata": {},
     "output_type": "execute_result"
    }
   ],
   "source": [
    "## Dates to datetime:------------------------------------------------------------------------------------\n",
    "\n",
    "for df in dfs:\n",
    "    df['date'] = pd.to_datetime(df['date'])\n",
    "    df['compiled_date'] = pd.to_datetime(df['compiled_date'])\n",
    "\n",
    "## Stitch together:--------------------------------------------------------------------------------------\n",
    "## Choose to use most up to date information\n",
    "calendardf = pd.concat([calendardf1, calendardf2, calendardf3, calendardf4]).sort_values('compiled_date', ascending=False).drop_duplicates(subset=['listing_id', 'date'], keep='first')\n",
    "\n",
    "## Check for duplicates not dropped:---------------------------------------------------------------------\n",
    "checkdf = calendardf.groupby(['listing_id', 'date'])['available'].count()\n",
    "checkdf[checkdf>1]\n"
   ]
  },
  {
   "cell_type": "code",
   "execution_count": 6,
   "id": "409c6045",
   "metadata": {},
   "outputs": [],
   "source": [
    "## view any duplicates:\n",
    "# calendardf.loc[(calendardf['listing_id']==54188) & (calendardf['date'] >= '2021-06-17')].sort_values('date').head(10) "
   ]
  },
  {
   "cell_type": "code",
   "execution_count": 7,
   "id": "e25ba7c9",
   "metadata": {},
   "outputs": [
    {
     "data": {
      "text/html": [
       "<div>\n",
       "<style scoped>\n",
       "    .dataframe tbody tr th:only-of-type {\n",
       "        vertical-align: middle;\n",
       "    }\n",
       "\n",
       "    .dataframe tbody tr th {\n",
       "        vertical-align: top;\n",
       "    }\n",
       "\n",
       "    .dataframe thead th {\n",
       "        text-align: right;\n",
       "    }\n",
       "</style>\n",
       "<table border=\"1\" class=\"dataframe\">\n",
       "  <thead>\n",
       "    <tr style=\"text-align: right;\">\n",
       "      <th></th>\n",
       "      <th>listing_id</th>\n",
       "      <th>available</th>\n",
       "      <th>price</th>\n",
       "      <th>adjusted_price</th>\n",
       "      <th>minimum_nights</th>\n",
       "      <th>maximum_nights</th>\n",
       "      <th>compiled_date</th>\n",
       "    </tr>\n",
       "    <tr>\n",
       "      <th>date</th>\n",
       "      <th></th>\n",
       "      <th></th>\n",
       "      <th></th>\n",
       "      <th></th>\n",
       "      <th></th>\n",
       "      <th></th>\n",
       "      <th></th>\n",
       "    </tr>\n",
       "  </thead>\n",
       "  <tbody>\n",
       "    <tr>\n",
       "      <th>2019-06-25</th>\n",
       "      <td>15064168</td>\n",
       "      <td>f</td>\n",
       "      <td>$80.00</td>\n",
       "      <td>$80.00</td>\n",
       "      <td>2.0</td>\n",
       "      <td>7.0</td>\n",
       "      <td>2019-01-01</td>\n",
       "    </tr>\n",
       "    <tr>\n",
       "      <th>2019-06-25</th>\n",
       "      <td>30013151</td>\n",
       "      <td>f</td>\n",
       "      <td>$85.00</td>\n",
       "      <td>$85.00</td>\n",
       "      <td>2.0</td>\n",
       "      <td>1125.0</td>\n",
       "      <td>2019-01-01</td>\n",
       "    </tr>\n",
       "    <tr>\n",
       "      <th>2019-06-25</th>\n",
       "      <td>19609630</td>\n",
       "      <td>f</td>\n",
       "      <td>$100.00</td>\n",
       "      <td>$90.00</td>\n",
       "      <td>2.0</td>\n",
       "      <td>360.0</td>\n",
       "      <td>2019-01-01</td>\n",
       "    </tr>\n",
       "    <tr>\n",
       "      <th>2019-06-25</th>\n",
       "      <td>34245374</td>\n",
       "      <td>f</td>\n",
       "      <td>$30.00</td>\n",
       "      <td>$30.00</td>\n",
       "      <td>2.0</td>\n",
       "      <td>1125.0</td>\n",
       "      <td>2019-01-01</td>\n",
       "    </tr>\n",
       "    <tr>\n",
       "      <th>2019-06-25</th>\n",
       "      <td>27634495</td>\n",
       "      <td>f</td>\n",
       "      <td>$35.00</td>\n",
       "      <td>$35.00</td>\n",
       "      <td>7.0</td>\n",
       "      <td>20.0</td>\n",
       "      <td>2019-01-01</td>\n",
       "    </tr>\n",
       "    <tr>\n",
       "      <th>2019-06-25</th>\n",
       "      <td>18390477</td>\n",
       "      <td>f</td>\n",
       "      <td>$60.00</td>\n",
       "      <td>$60.00</td>\n",
       "      <td>2.0</td>\n",
       "      <td>1125.0</td>\n",
       "      <td>2019-01-01</td>\n",
       "    </tr>\n",
       "    <tr>\n",
       "      <th>2019-06-25</th>\n",
       "      <td>20545644</td>\n",
       "      <td>f</td>\n",
       "      <td>$71.00</td>\n",
       "      <td>$71.00</td>\n",
       "      <td>1.0</td>\n",
       "      <td>1125.0</td>\n",
       "      <td>2019-01-01</td>\n",
       "    </tr>\n",
       "    <tr>\n",
       "      <th>2019-06-25</th>\n",
       "      <td>3798955</td>\n",
       "      <td>f</td>\n",
       "      <td>$50.00</td>\n",
       "      <td>$50.00</td>\n",
       "      <td>2.0</td>\n",
       "      <td>1125.0</td>\n",
       "      <td>2019-01-01</td>\n",
       "    </tr>\n",
       "    <tr>\n",
       "      <th>2019-06-25</th>\n",
       "      <td>19128105</td>\n",
       "      <td>f</td>\n",
       "      <td>$80.00</td>\n",
       "      <td>$80.00</td>\n",
       "      <td>1.0</td>\n",
       "      <td>1125.0</td>\n",
       "      <td>2019-01-01</td>\n",
       "    </tr>\n",
       "    <tr>\n",
       "      <th>2019-06-25</th>\n",
       "      <td>19468283</td>\n",
       "      <td>f</td>\n",
       "      <td>$45.00</td>\n",
       "      <td>$45.00</td>\n",
       "      <td>2.0</td>\n",
       "      <td>1125.0</td>\n",
       "      <td>2019-01-01</td>\n",
       "    </tr>\n",
       "  </tbody>\n",
       "</table>\n",
       "</div>"
      ],
      "text/plain": [
       "            listing_id available    price adjusted_price  minimum_nights  \\\n",
       "date                                                                       \n",
       "2019-06-25    15064168         f   $80.00         $80.00             2.0   \n",
       "2019-06-25    30013151         f   $85.00         $85.00             2.0   \n",
       "2019-06-25    19609630         f  $100.00         $90.00             2.0   \n",
       "2019-06-25    34245374         f   $30.00         $30.00             2.0   \n",
       "2019-06-25    27634495         f   $35.00         $35.00             7.0   \n",
       "2019-06-25    18390477         f   $60.00         $60.00             2.0   \n",
       "2019-06-25    20545644         f   $71.00         $71.00             1.0   \n",
       "2019-06-25     3798955         f   $50.00         $50.00             2.0   \n",
       "2019-06-25    19128105         f   $80.00         $80.00             1.0   \n",
       "2019-06-25    19468283         f   $45.00         $45.00             2.0   \n",
       "\n",
       "            maximum_nights compiled_date  \n",
       "date                                      \n",
       "2019-06-25             7.0    2019-01-01  \n",
       "2019-06-25          1125.0    2019-01-01  \n",
       "2019-06-25           360.0    2019-01-01  \n",
       "2019-06-25          1125.0    2019-01-01  \n",
       "2019-06-25            20.0    2019-01-01  \n",
       "2019-06-25          1125.0    2019-01-01  \n",
       "2019-06-25          1125.0    2019-01-01  \n",
       "2019-06-25          1125.0    2019-01-01  \n",
       "2019-06-25          1125.0    2019-01-01  \n",
       "2019-06-25          1125.0    2019-01-01  "
      ]
     },
     "execution_count": 7,
     "metadata": {},
     "output_type": "execute_result"
    }
   ],
   "source": [
    "## Set date as index:------------------------------------------------------------------------------------\n",
    "calendardf = calendardf.set_index('date').sort_index()\n",
    "calendardf.head(10)"
   ]
  },
  {
   "cell_type": "code",
   "execution_count": 8,
   "id": "c83a7c86",
   "metadata": {},
   "outputs": [
    {
     "data": {
      "text/html": [
       "<div>\n",
       "<style scoped>\n",
       "    .dataframe tbody tr th:only-of-type {\n",
       "        vertical-align: middle;\n",
       "    }\n",
       "\n",
       "    .dataframe tbody tr th {\n",
       "        vertical-align: top;\n",
       "    }\n",
       "\n",
       "    .dataframe thead th {\n",
       "        text-align: right;\n",
       "    }\n",
       "</style>\n",
       "<table border=\"1\" class=\"dataframe\">\n",
       "  <thead>\n",
       "    <tr style=\"text-align: right;\">\n",
       "      <th></th>\n",
       "      <th>listing_id</th>\n",
       "      <th>available</th>\n",
       "      <th>price</th>\n",
       "      <th>minimum_nights</th>\n",
       "      <th>maximum_nights</th>\n",
       "      <th>compiled_date</th>\n",
       "    </tr>\n",
       "    <tr>\n",
       "      <th>date</th>\n",
       "      <th></th>\n",
       "      <th></th>\n",
       "      <th></th>\n",
       "      <th></th>\n",
       "      <th></th>\n",
       "      <th></th>\n",
       "    </tr>\n",
       "  </thead>\n",
       "  <tbody>\n",
       "    <tr>\n",
       "      <th>2019-06-25</th>\n",
       "      <td>15064168</td>\n",
       "      <td>f</td>\n",
       "      <td>$80.00</td>\n",
       "      <td>2.0</td>\n",
       "      <td>7.0</td>\n",
       "      <td>2019-01-01</td>\n",
       "    </tr>\n",
       "    <tr>\n",
       "      <th>2019-06-25</th>\n",
       "      <td>30013151</td>\n",
       "      <td>f</td>\n",
       "      <td>$85.00</td>\n",
       "      <td>2.0</td>\n",
       "      <td>1125.0</td>\n",
       "      <td>2019-01-01</td>\n",
       "    </tr>\n",
       "    <tr>\n",
       "      <th>2019-06-25</th>\n",
       "      <td>19609630</td>\n",
       "      <td>f</td>\n",
       "      <td>$100.00</td>\n",
       "      <td>2.0</td>\n",
       "      <td>360.0</td>\n",
       "      <td>2019-01-01</td>\n",
       "    </tr>\n",
       "    <tr>\n",
       "      <th>2019-06-25</th>\n",
       "      <td>34245374</td>\n",
       "      <td>f</td>\n",
       "      <td>$30.00</td>\n",
       "      <td>2.0</td>\n",
       "      <td>1125.0</td>\n",
       "      <td>2019-01-01</td>\n",
       "    </tr>\n",
       "    <tr>\n",
       "      <th>2019-06-25</th>\n",
       "      <td>27634495</td>\n",
       "      <td>f</td>\n",
       "      <td>$35.00</td>\n",
       "      <td>7.0</td>\n",
       "      <td>20.0</td>\n",
       "      <td>2019-01-01</td>\n",
       "    </tr>\n",
       "    <tr>\n",
       "      <th>2019-06-25</th>\n",
       "      <td>18390477</td>\n",
       "      <td>f</td>\n",
       "      <td>$60.00</td>\n",
       "      <td>2.0</td>\n",
       "      <td>1125.0</td>\n",
       "      <td>2019-01-01</td>\n",
       "    </tr>\n",
       "    <tr>\n",
       "      <th>2019-06-25</th>\n",
       "      <td>20545644</td>\n",
       "      <td>f</td>\n",
       "      <td>$71.00</td>\n",
       "      <td>1.0</td>\n",
       "      <td>1125.0</td>\n",
       "      <td>2019-01-01</td>\n",
       "    </tr>\n",
       "    <tr>\n",
       "      <th>2019-06-25</th>\n",
       "      <td>3798955</td>\n",
       "      <td>f</td>\n",
       "      <td>$50.00</td>\n",
       "      <td>2.0</td>\n",
       "      <td>1125.0</td>\n",
       "      <td>2019-01-01</td>\n",
       "    </tr>\n",
       "    <tr>\n",
       "      <th>2019-06-25</th>\n",
       "      <td>19128105</td>\n",
       "      <td>f</td>\n",
       "      <td>$80.00</td>\n",
       "      <td>1.0</td>\n",
       "      <td>1125.0</td>\n",
       "      <td>2019-01-01</td>\n",
       "    </tr>\n",
       "    <tr>\n",
       "      <th>2019-06-25</th>\n",
       "      <td>19468283</td>\n",
       "      <td>f</td>\n",
       "      <td>$45.00</td>\n",
       "      <td>2.0</td>\n",
       "      <td>1125.0</td>\n",
       "      <td>2019-01-01</td>\n",
       "    </tr>\n",
       "  </tbody>\n",
       "</table>\n",
       "</div>"
      ],
      "text/plain": [
       "            listing_id available    price  minimum_nights  maximum_nights  \\\n",
       "date                                                                        \n",
       "2019-06-25    15064168         f   $80.00             2.0             7.0   \n",
       "2019-06-25    30013151         f   $85.00             2.0          1125.0   \n",
       "2019-06-25    19609630         f  $100.00             2.0           360.0   \n",
       "2019-06-25    34245374         f   $30.00             2.0          1125.0   \n",
       "2019-06-25    27634495         f   $35.00             7.0            20.0   \n",
       "2019-06-25    18390477         f   $60.00             2.0          1125.0   \n",
       "2019-06-25    20545644         f   $71.00             1.0          1125.0   \n",
       "2019-06-25     3798955         f   $50.00             2.0          1125.0   \n",
       "2019-06-25    19128105         f   $80.00             1.0          1125.0   \n",
       "2019-06-25    19468283         f   $45.00             2.0          1125.0   \n",
       "\n",
       "           compiled_date  \n",
       "date                      \n",
       "2019-06-25    2019-01-01  \n",
       "2019-06-25    2019-01-01  \n",
       "2019-06-25    2019-01-01  \n",
       "2019-06-25    2019-01-01  \n",
       "2019-06-25    2019-01-01  \n",
       "2019-06-25    2019-01-01  \n",
       "2019-06-25    2019-01-01  \n",
       "2019-06-25    2019-01-01  \n",
       "2019-06-25    2019-01-01  \n",
       "2019-06-25    2019-01-01  "
      ]
     },
     "execution_count": 8,
     "metadata": {},
     "output_type": "execute_result"
    }
   ],
   "source": [
    "## Only need one pricing variable - drop adjusted_price:\n",
    "calendardf.drop('adjusted_price', axis=1, inplace=True)\n",
    "calendardf.head(10)"
   ]
  },
  {
   "cell_type": "code",
   "execution_count": 9,
   "id": "461a3f53",
   "metadata": {},
   "outputs": [],
   "source": [
    "# calendardf.info(0)"
   ]
  },
  {
   "cell_type": "code",
   "execution_count": 10,
   "id": "b5d2968c",
   "metadata": {},
   "outputs": [],
   "source": [
    "# calendardf.isnull().sum()"
   ]
  },
  {
   "cell_type": "code",
   "execution_count": 11,
   "id": "afaccec3",
   "metadata": {
    "tags": []
   },
   "outputs": [
    {
     "name": "stdout",
     "output_type": "stream",
     "text": [
      "<class 'pandas.core.frame.DataFrame'>\n",
      "DatetimeIndex: 11133932 entries, 2019-06-25 to 2022-03-31\n",
      "Data columns (total 6 columns):\n",
      " #   Column          Dtype         \n",
      "---  ------          -----         \n",
      " 0   listing_id      int64         \n",
      " 1   available       object        \n",
      " 2   price           float64       \n",
      " 3   minimum_nights  float64       \n",
      " 4   maximum_nights  float64       \n",
      " 5   compiled_date   datetime64[ns]\n",
      "dtypes: datetime64[ns](1), float64(3), int64(1), object(1)\n",
      "memory usage: 594.6+ MB\n"
     ]
    }
   ],
   "source": [
    "## Clean price columns:----------------------------------------------------------------------------------\n",
    "## Need to clean up price column to remove $\n",
    "calendardf['price'] = [pd.to_numeric(i.replace('$', '').replace(',', '')) for i in calendardf['price']]\n",
    "\n",
    "calendardf.info()"
   ]
  },
  {
   "cell_type": "code",
   "execution_count": 12,
   "id": "ff73351a",
   "metadata": {},
   "outputs": [
    {
     "data": {
      "text/html": [
       "<div>\n",
       "<style scoped>\n",
       "    .dataframe tbody tr th:only-of-type {\n",
       "        vertical-align: middle;\n",
       "    }\n",
       "\n",
       "    .dataframe tbody tr th {\n",
       "        vertical-align: top;\n",
       "    }\n",
       "\n",
       "    .dataframe thead th {\n",
       "        text-align: right;\n",
       "    }\n",
       "</style>\n",
       "<table border=\"1\" class=\"dataframe\">\n",
       "  <thead>\n",
       "    <tr style=\"text-align: right;\">\n",
       "      <th></th>\n",
       "      <th>listing_id</th>\n",
       "      <th>available</th>\n",
       "      <th>price</th>\n",
       "      <th>minimum_nights</th>\n",
       "      <th>maximum_nights</th>\n",
       "      <th>compiled_date</th>\n",
       "    </tr>\n",
       "    <tr>\n",
       "      <th>date</th>\n",
       "      <th></th>\n",
       "      <th></th>\n",
       "      <th></th>\n",
       "      <th></th>\n",
       "      <th></th>\n",
       "      <th></th>\n",
       "    </tr>\n",
       "  </thead>\n",
       "  <tbody>\n",
       "    <tr>\n",
       "      <th>2019-06-25</th>\n",
       "      <td>15064168</td>\n",
       "      <td>f</td>\n",
       "      <td>80.0</td>\n",
       "      <td>2.0</td>\n",
       "      <td>7.0</td>\n",
       "      <td>2019-01-01</td>\n",
       "    </tr>\n",
       "    <tr>\n",
       "      <th>2019-06-25</th>\n",
       "      <td>30013151</td>\n",
       "      <td>f</td>\n",
       "      <td>85.0</td>\n",
       "      <td>2.0</td>\n",
       "      <td>1125.0</td>\n",
       "      <td>2019-01-01</td>\n",
       "    </tr>\n",
       "    <tr>\n",
       "      <th>2019-06-25</th>\n",
       "      <td>19609630</td>\n",
       "      <td>f</td>\n",
       "      <td>100.0</td>\n",
       "      <td>2.0</td>\n",
       "      <td>360.0</td>\n",
       "      <td>2019-01-01</td>\n",
       "    </tr>\n",
       "    <tr>\n",
       "      <th>2019-06-25</th>\n",
       "      <td>34245374</td>\n",
       "      <td>f</td>\n",
       "      <td>30.0</td>\n",
       "      <td>2.0</td>\n",
       "      <td>1125.0</td>\n",
       "      <td>2019-01-01</td>\n",
       "    </tr>\n",
       "    <tr>\n",
       "      <th>2019-06-25</th>\n",
       "      <td>27634495</td>\n",
       "      <td>f</td>\n",
       "      <td>35.0</td>\n",
       "      <td>7.0</td>\n",
       "      <td>20.0</td>\n",
       "      <td>2019-01-01</td>\n",
       "    </tr>\n",
       "  </tbody>\n",
       "</table>\n",
       "</div>"
      ],
      "text/plain": [
       "            listing_id available  price  minimum_nights  maximum_nights  \\\n",
       "date                                                                      \n",
       "2019-06-25    15064168         f   80.0             2.0             7.0   \n",
       "2019-06-25    30013151         f   85.0             2.0          1125.0   \n",
       "2019-06-25    19609630         f  100.0             2.0           360.0   \n",
       "2019-06-25    34245374         f   30.0             2.0          1125.0   \n",
       "2019-06-25    27634495         f   35.0             7.0            20.0   \n",
       "\n",
       "           compiled_date  \n",
       "date                      \n",
       "2019-06-25    2019-01-01  \n",
       "2019-06-25    2019-01-01  \n",
       "2019-06-25    2019-01-01  \n",
       "2019-06-25    2019-01-01  \n",
       "2019-06-25    2019-01-01  "
      ]
     },
     "execution_count": 12,
     "metadata": {},
     "output_type": "execute_result"
    }
   ],
   "source": [
    "calendardf.head(5)"
   ]
  },
  {
   "cell_type": "code",
   "execution_count": 15,
   "id": "2dbb2078",
   "metadata": {},
   "outputs": [
    {
     "name": "stdout",
     "output_type": "stream",
     "text": [
      "2019-06-25 00:00:00 2022-03-31 00:00:00\n"
     ]
    },
    {
     "data": {
      "text/plain": [
       "<matplotlib.legend.Legend at 0x25e8a15a3c8>"
      ]
     },
     "execution_count": 15,
     "metadata": {},
     "output_type": "execute_result"
    },
    {
     "data": {
      "image/png": "[encoded data removed]",
      "text/plain": [
       "<Figure size 720x360 with 2 Axes>"
      ]
     },
     "metadata": {
      "needs_background": "light"
     },
     "output_type": "display_data"
    }
   ],
   "source": [
    "## plot\n",
    "print(calendardf.index[0], calendardf.index[-1])\n",
    "\n",
    "fig, ax = plt.subplots(figsize=(10,5))\n",
    "\n",
    "to_plot = calendardf.groupby(calendardf.index)['price'].mean()\n",
    "ax.plot(to_plot, 'b-', label='price')\n",
    "plt.xticks(rotation=25)\n",
    "ax.set_xlabel(\"Date\")\n",
    "ax.set_ylabel('Average price')\n",
    "\n",
    "ax2 = ax.twinx()\n",
    "to_plot = calendardf.groupby(calendardf.index)['listing_id'].count()\n",
    "ax2.plot(to_plot, label='listings')\n",
    "ax2.set_ylabel('Number of listings')\n",
    "\n",
    "lines = ax.get_lines() + ax2.get_lines()\n",
    "ax2.legend(lines, [line.get_label() for line in lines], loc='upper left')\n"
   ]
  },
  {
   "cell_type": "markdown",
   "id": "ce60ff31",
   "metadata": {},
   "source": [
    "We can see that the first two years of data look similar, whereas 2021 looks very different. This data is for the future (rather than historic), and of course COVID and lock-down will have had a large impact.\n",
    "Perhaps 2021 is different due to the easing of lockdown within the UK resulting in an increase in demand and an increase in price?\n",
    "Looking at the number of listings we can see that has also changed dramatically at the same time - perhaps the average price has increased as more and more people take their properties off the site, and only the properties which are buy-to-lets are left (whole property lets which are more expensive)?"
   ]
  },
  {
   "cell_type": "code",
   "execution_count": 16,
   "id": "64237da2",
   "metadata": {},
   "outputs": [
    {
     "name": "stdout",
     "output_type": "stream",
     "text": [
      "['Solarize_Light2', '_classic_test_patch', 'bmh', 'classic', 'dark_background', 'fast', 'fivethirtyeight', 'ggplot', 'grayscale', 'seaborn', 'seaborn-bright', 'seaborn-colorblind', 'seaborn-dark', 'seaborn-dark-palette', 'seaborn-darkgrid', 'seaborn-deep', 'seaborn-muted', 'seaborn-notebook', 'seaborn-paper', 'seaborn-pastel', 'seaborn-poster', 'seaborn-talk', 'seaborn-ticks', 'seaborn-white', 'seaborn-whitegrid', 'tableau-colorblind10']\n"
     ]
    }
   ],
   "source": [
    "print(plt.style.available)"
   ]
  },
  {
   "cell_type": "code",
   "execution_count": 17,
   "id": "0a34995d",
   "metadata": {},
   "outputs": [
    {
     "data": {
      "text/plain": [
       "Text(0.5, 1.0, 'Average rental price of Airbnb lets in Edinburgh')"
      ]
     },
     "execution_count": 17,
     "metadata": {},
     "output_type": "execute_result"
    },
    {
     "data": {
      "image/png": "[encoded data removed]",
      "text/plain": [
       "<Figure size 720x360 with 1 Axes>"
      ]
     },
     "metadata": {},
     "output_type": "display_data"
    }
   ],
   "source": [
    "# print(plt.style.available)\n",
    "plt.style.use('ggplot') #'seaborn-muted'\n",
    "\n",
    "## Plot just 2019-20 price data:\n",
    "fig, ax = plt.subplots(figsize=(10,5))\n",
    "\n",
    "## For historical data only:\n",
    "to_plot = calendardf[calendardf.index <= '2021-03-08'].groupby(calendardf[calendardf.index <= '2021-03-08'].index)['price'].mean();\n",
    "## For whole time frame:\n",
    "# to_plot = calendardf.groupby(calendardf.index)['price'].mean();\n",
    "ax.plot(to_plot)\n",
    "ax.set_xlabel(\"Date\")\n",
    "ax.set_ylabel('Price per night ($)')\n",
    "ax.set_title('Average rental price of Airbnb lets in Edinburgh')"
   ]
  },
  {
   "cell_type": "markdown",
   "id": "3ed9a636",
   "metadata": {},
   "source": [
    "#### 1.4.2 Listings data"
   ]
  },
  {
   "cell_type": "code",
   "execution_count": 18,
   "id": "7c994338",
   "metadata": {},
   "outputs": [
    {
     "name": "stderr",
     "output_type": "stream",
     "text": [
      "c:\\dev\\.conda\\envs\\jupyter-lab\\lib\\site-packages\\IPython\\core\\interactiveshell.py:3166: DtypeWarning: Columns (94) have mixed types.Specify dtype option on import or set low_memory=False.\n",
      "  interactivity=interactivity, compiler=compiler, result=result)\n"
     ]
    }
   ],
   "source": [
    "## Listings data spanning availability on AirBnB website:\n",
    "listingsdf1 = pd.read_csv('./listings20210308.csv')\n",
    "listingsdf2 = pd.read_csv('./listings20210211.csv')\n",
    "listingsdf3 = pd.read_csv('./listings20200427.csv')\n",
    "listingsdf4 = pd.read_csv('./listings2019.csv')"
   ]
  },
  {
   "cell_type": "code",
   "execution_count": 19,
   "id": "b391f971",
   "metadata": {},
   "outputs": [
    {
     "name": "stdout",
     "output_type": "stream",
     "text": [
      "listingsdf1 1st scrape date = 2021-03-08 last scrape date = 2021-04-01\n",
      "listingsdf2 1st scrape date = 2021-02-11 last scrape date = 2021-02-19\n",
      "listingsdf3 1st scrape date = 2020-04-27 last scrape date = 2020-04-29\n",
      "listingsdf4 1st scrape date = 2019-06-25 last scrape date = 2019-06-26\n"
     ]
    }
   ],
   "source": [
    "## Check data\n",
    "dfnames = ['listingsdf1', 'listingsdf2', 'listingsdf3', 'listingsdf4']\n",
    "dfs = [listingsdf1, listingsdf2, listingsdf3, listingsdf4]\n",
    "for i in range(len(dfnames)):\n",
    "    print(dfnames[i], '1st scrape date =', dfs[i]['last_scraped'].min(), 'last scrape date =', dfs[i]['last_scraped'].max())"
   ]
  },
  {
   "cell_type": "code",
   "execution_count": 20,
   "id": "48fc4dbe",
   "metadata": {},
   "outputs": [
    {
     "data": {
      "text/plain": [
       "Series([], Name: accommodates, dtype: int64)"
      ]
     },
     "execution_count": 20,
     "metadata": {},
     "output_type": "execute_result"
    }
   ],
   "source": [
    "## Dates to datetime:------------------------------------------------------------------------------------\n",
    "\n",
    "for df in dfs:\n",
    "    df['last_scraped'] = pd.to_datetime(df['last_scraped'])\n",
    "\n",
    "## Large table - take only columns of immediate interest common to all data files for a basic model:\n",
    "cols = ['id', 'listing_url', 'accommodates', 'bathrooms', 'bedrooms', 'beds', 'neighbourhood',\n",
    "        'neighbourhood_cleansed', 'property_type', 'room_type', 'last_scraped']\n",
    "# for i in range(len(dfnames)):\n",
    "#     dfs[i] = dfs[i][cols].sort_values('last_scraped')\n",
    "# #     print(dfs[i].columns)\n",
    "listingsdf1 = listingsdf1[cols].sort_values('last_scraped')\n",
    "listingsdf2 = listingsdf2[cols].sort_values('last_scraped')\n",
    "listingsdf3 = listingsdf3[cols].sort_values('last_scraped')\n",
    "listingsdf4 = listingsdf4[cols].sort_values('last_scraped')\n",
    "\n",
    "## Stitch together:--------------------------------------------------------------------------------------\n",
    "## Choose to use most up to date information\n",
    "listingsdf = pd.concat([listingsdf1, listingsdf2, listingsdf3, listingsdf4]).drop_duplicates(subset=['id', 'listing_url'], keep='first')\n",
    "\n",
    "## Check for duplicates not dropped:---------------------------------------------------------------------\n",
    "checkdf = listingsdf.groupby(['id', 'listing_url'])['accommodates'].count()\n",
    "checkdf[checkdf>1]"
   ]
  },
  {
   "cell_type": "code",
   "execution_count": 21,
   "id": "b115939e",
   "metadata": {
    "tags": []
   },
   "outputs": [
    {
     "data": {
      "text/html": [
       "<div>\n",
       "<style scoped>\n",
       "    .dataframe tbody tr th:only-of-type {\n",
       "        vertical-align: middle;\n",
       "    }\n",
       "\n",
       "    .dataframe tbody tr th {\n",
       "        vertical-align: top;\n",
       "    }\n",
       "\n",
       "    .dataframe thead th {\n",
       "        text-align: right;\n",
       "    }\n",
       "</style>\n",
       "<table border=\"1\" class=\"dataframe\">\n",
       "  <thead>\n",
       "    <tr style=\"text-align: right;\">\n",
       "      <th></th>\n",
       "      <th>id</th>\n",
       "      <th>listing_url</th>\n",
       "      <th>accommodates</th>\n",
       "      <th>bathrooms</th>\n",
       "      <th>bedrooms</th>\n",
       "      <th>beds</th>\n",
       "      <th>neighbourhood</th>\n",
       "      <th>neighbourhood_cleansed</th>\n",
       "      <th>property_type</th>\n",
       "      <th>room_type</th>\n",
       "      <th>last_scraped</th>\n",
       "    </tr>\n",
       "  </thead>\n",
       "  <tbody>\n",
       "    <tr>\n",
       "      <th>4661</th>\n",
       "      <td>35356200</td>\n",
       "      <td>https://www.airbnb.com/rooms/35356200</td>\n",
       "      <td>4</td>\n",
       "      <td>NaN</td>\n",
       "      <td>2.0</td>\n",
       "      <td>2.0</td>\n",
       "      <td>NaN</td>\n",
       "      <td>Old Town, Princes Street and Leith Street</td>\n",
       "      <td>Entire apartment</td>\n",
       "      <td>Entire home/apt</td>\n",
       "      <td>2021-03-08</td>\n",
       "    </tr>\n",
       "    <tr>\n",
       "      <th>6176</th>\n",
       "      <td>45913129</td>\n",
       "      <td>https://www.airbnb.com/rooms/45913129</td>\n",
       "      <td>4</td>\n",
       "      <td>NaN</td>\n",
       "      <td>2.0</td>\n",
       "      <td>2.0</td>\n",
       "      <td>Edinburgh, Scotland, United Kingdom</td>\n",
       "      <td>Old Town, Princes Street and Leith Street</td>\n",
       "      <td>Entire apartment</td>\n",
       "      <td>Entire home/apt</td>\n",
       "      <td>2021-03-08</td>\n",
       "    </tr>\n",
       "    <tr>\n",
       "      <th>4596</th>\n",
       "      <td>34997914</td>\n",
       "      <td>https://www.airbnb.com/rooms/34997914</td>\n",
       "      <td>4</td>\n",
       "      <td>NaN</td>\n",
       "      <td>2.0</td>\n",
       "      <td>2.0</td>\n",
       "      <td>Edinburgh, Scotland, United Kingdom</td>\n",
       "      <td>Old Town, Princes Street and Leith Street</td>\n",
       "      <td>Entire townhouse</td>\n",
       "      <td>Entire home/apt</td>\n",
       "      <td>2021-03-08</td>\n",
       "    </tr>\n",
       "    <tr>\n",
       "      <th>4584</th>\n",
       "      <td>34959773</td>\n",
       "      <td>https://www.airbnb.com/rooms/34959773</td>\n",
       "      <td>6</td>\n",
       "      <td>NaN</td>\n",
       "      <td>4.0</td>\n",
       "      <td>4.0</td>\n",
       "      <td>Edinburgh, Scotland, United Kingdom</td>\n",
       "      <td>Gorgie West</td>\n",
       "      <td>Entire apartment</td>\n",
       "      <td>Entire home/apt</td>\n",
       "      <td>2021-03-08</td>\n",
       "    </tr>\n",
       "    <tr>\n",
       "      <th>4581</th>\n",
       "      <td>34935631</td>\n",
       "      <td>https://www.airbnb.com/rooms/34935631</td>\n",
       "      <td>2</td>\n",
       "      <td>NaN</td>\n",
       "      <td>1.0</td>\n",
       "      <td>2.0</td>\n",
       "      <td>Edinburgh, Scotland, United Kingdom</td>\n",
       "      <td>Broughton South</td>\n",
       "      <td>Private room in house</td>\n",
       "      <td>Private room</td>\n",
       "      <td>2021-03-08</td>\n",
       "    </tr>\n",
       "  </tbody>\n",
       "</table>\n",
       "</div>"
      ],
      "text/plain": [
       "            id                            listing_url  accommodates  \\\n",
       "4661  35356200  https://www.airbnb.com/rooms/35356200             4   \n",
       "6176  45913129  https://www.airbnb.com/rooms/45913129             4   \n",
       "4596  34997914  https://www.airbnb.com/rooms/34997914             4   \n",
       "4584  34959773  https://www.airbnb.com/rooms/34959773             6   \n",
       "4581  34935631  https://www.airbnb.com/rooms/34935631             2   \n",
       "\n",
       "      bathrooms  bedrooms  beds                        neighbourhood  \\\n",
       "4661        NaN       2.0   2.0                                  NaN   \n",
       "6176        NaN       2.0   2.0  Edinburgh, Scotland, United Kingdom   \n",
       "4596        NaN       2.0   2.0  Edinburgh, Scotland, United Kingdom   \n",
       "4584        NaN       4.0   4.0  Edinburgh, Scotland, United Kingdom   \n",
       "4581        NaN       1.0   2.0  Edinburgh, Scotland, United Kingdom   \n",
       "\n",
       "                         neighbourhood_cleansed          property_type  \\\n",
       "4661  Old Town, Princes Street and Leith Street       Entire apartment   \n",
       "6176  Old Town, Princes Street and Leith Street       Entire apartment   \n",
       "4596  Old Town, Princes Street and Leith Street       Entire townhouse   \n",
       "4584                                Gorgie West       Entire apartment   \n",
       "4581                            Broughton South  Private room in house   \n",
       "\n",
       "            room_type last_scraped  \n",
       "4661  Entire home/apt   2021-03-08  \n",
       "6176  Entire home/apt   2021-03-08  \n",
       "4596  Entire home/apt   2021-03-08  \n",
       "4584  Entire home/apt   2021-03-08  \n",
       "4581     Private room   2021-03-08  "
      ]
     },
     "execution_count": 21,
     "metadata": {},
     "output_type": "execute_result"
    }
   ],
   "source": [
    "listingsdf.head(5)"
   ]
  },
  {
   "cell_type": "code",
   "execution_count": 22,
   "id": "cf23ff8e",
   "metadata": {
    "tags": []
   },
   "outputs": [
    {
     "name": "stdout",
     "output_type": "stream",
     "text": [
      "<class 'pandas.core.frame.DataFrame'>\n",
      "Int64Index: 16756 entries, 4661 to 13244\n",
      "Data columns (total 11 columns):\n",
      " #   Column                  Non-Null Count  Dtype         \n",
      "---  ------                  --------------  -----         \n",
      " 0   id                      16756 non-null  int64         \n",
      " 1   listing_url             16756 non-null  object        \n",
      " 2   accommodates            16756 non-null  int64         \n",
      " 3   bathrooms               10099 non-null  float64       \n",
      " 4   bedrooms                16542 non-null  float64       \n",
      " 5   beds                    16684 non-null  float64       \n",
      " 6   neighbourhood           13238 non-null  object        \n",
      " 7   neighbourhood_cleansed  16756 non-null  object        \n",
      " 8   property_type           16756 non-null  object        \n",
      " 9   room_type               16756 non-null  object        \n",
      " 10  last_scraped            16756 non-null  datetime64[ns]\n",
      "dtypes: datetime64[ns](1), float64(3), int64(2), object(5)\n",
      "memory usage: 1.5+ MB\n"
     ]
    }
   ],
   "source": [
    "listingsdf.info()"
   ]
  },
  {
   "cell_type": "code",
   "execution_count": 23,
   "id": "502afa4b",
   "metadata": {
    "tags": []
   },
   "outputs": [
    {
     "data": {
      "text/plain": [
       "id                           0\n",
       "listing_url                  0\n",
       "accommodates                 0\n",
       "bathrooms                 6657\n",
       "bedrooms                   214\n",
       "beds                        72\n",
       "neighbourhood             3518\n",
       "neighbourhood_cleansed       0\n",
       "property_type                0\n",
       "room_type                    0\n",
       "last_scraped                 0\n",
       "dtype: int64"
      ]
     },
     "execution_count": 23,
     "metadata": {},
     "output_type": "execute_result"
    }
   ],
   "source": [
    "listingsdf.isnull().sum()\n",
    "## quite a few nulls in bathrooms, but perhaps once aggregated to listings this will not be the case"
   ]
  },
  {
   "cell_type": "markdown",
   "id": "72cb20be",
   "metadata": {},
   "source": [
    "# Modelling (Optional)\n",
    "* Before modelling some descriptive analysis is done looking at correlations of features (including a feature describing the Fringe Festival period in August) with the price of lets.\n",
    "* Subsequently two approaches to modelling are used - ordinary least squares and Ridge regression"
   ]
  },
  {
   "cell_type": "markdown",
   "id": "0373075b",
   "metadata": {},
   "source": [
    "## 2. Question 1: What is the effect of the Fringe on price?\n",
    "What is the uplift in price for rentals during the fringe?\n",
    "What is the effect of Hogmany? To make the most money, which one should you rent for?"
   ]
  },
  {
   "cell_type": "markdown",
   "id": "94ff5b86",
   "metadata": {},
   "source": [
    "### 2.1 Prepare calendar data"
   ]
  },
  {
   "cell_type": "code",
   "execution_count": 24,
   "id": "c72d0fa6",
   "metadata": {},
   "outputs": [
    {
     "name": "stderr",
     "output_type": "stream",
     "text": [
      "c:\\dev\\.conda\\envs\\jupyter-lab\\lib\\site-packages\\ipykernel_launcher.py:5: FutureWarning: Indexing with multiple keys (implicitly converted to a tuple of keys) will be deprecated, use a list instead.\n",
      "  \"\"\"\n"
     ]
    }
   ],
   "source": [
    "## Take only historical data, since as shown above the more recent pricing data seems odd:\n",
    "calendardf = calendardf[calendardf.index <= '2021-05-01']\n",
    "\n",
    "## Group by to get average prices as a function of time:\n",
    "calendar_ave = calendardf.groupby(calendardf.index)['price','minimum_nights','maximum_nights'].mean()\n",
    "# calendar_ave.head()"
   ]
  },
  {
   "cell_type": "code",
   "execution_count": 25,
   "id": "c7c1ea85",
   "metadata": {},
   "outputs": [],
   "source": [
    "## Add dummy variable to indicate Fringe period:\n",
    "fringe_period2019 =  pd.date_range(start='08/01/2019', end='08/31/2019')\n",
    "fringe_period2020 =  pd.date_range(start='08/01/2020', end='08/31/2020')\n",
    "\n",
    "\n",
    "fringe_period = fringe_period2019.append(fringe_period2020)\n",
    "fringe_period\n",
    "calendar_ave['fringe_period'] = (calendar_ave.index.isin(fringe_period)) * 1\n",
    "# calendar_ave.head()\n",
    "# calendar_ave[calendar_ave['fringe_period'] ==1]"
   ]
  },
  {
   "cell_type": "markdown",
   "id": "9521b7a5",
   "metadata": {},
   "source": [
    "### 2.2 Create time-stationarised variables for correlation check"
   ]
  },
  {
   "cell_type": "code",
   "execution_count": 26,
   "id": "086a1668",
   "metadata": {},
   "outputs": [
    {
     "data": {
      "text/html": [
       "<div>\n",
       "<style scoped>\n",
       "    .dataframe tbody tr th:only-of-type {\n",
       "        vertical-align: middle;\n",
       "    }\n",
       "\n",
       "    .dataframe tbody tr th {\n",
       "        vertical-align: top;\n",
       "    }\n",
       "\n",
       "    .dataframe thead th {\n",
       "        text-align: right;\n",
       "    }\n",
       "</style>\n",
       "<table border=\"1\" class=\"dataframe\">\n",
       "  <thead>\n",
       "    <tr style=\"text-align: right;\">\n",
       "      <th></th>\n",
       "      <th>price</th>\n",
       "      <th>minimum_nights</th>\n",
       "      <th>maximum_nights</th>\n",
       "      <th>fringe_period</th>\n",
       "    </tr>\n",
       "    <tr>\n",
       "      <th>date</th>\n",
       "      <th></th>\n",
       "      <th></th>\n",
       "      <th></th>\n",
       "      <th></th>\n",
       "    </tr>\n",
       "  </thead>\n",
       "  <tbody>\n",
       "    <tr>\n",
       "      <th>2019-06-25</th>\n",
       "      <td>NaN</td>\n",
       "      <td>NaN</td>\n",
       "      <td>NaN</td>\n",
       "      <td>NaN</td>\n",
       "    </tr>\n",
       "    <tr>\n",
       "      <th>2019-06-26</th>\n",
       "      <td>-0.029099</td>\n",
       "      <td>0.095993</td>\n",
       "      <td>-5.405166</td>\n",
       "      <td>0.0</td>\n",
       "    </tr>\n",
       "    <tr>\n",
       "      <th>2019-06-27</th>\n",
       "      <td>0.001743</td>\n",
       "      <td>0.006116</td>\n",
       "      <td>-0.033296</td>\n",
       "      <td>0.0</td>\n",
       "    </tr>\n",
       "    <tr>\n",
       "      <th>2019-06-28</th>\n",
       "      <td>0.065883</td>\n",
       "      <td>0.035259</td>\n",
       "      <td>-0.086674</td>\n",
       "      <td>0.0</td>\n",
       "    </tr>\n",
       "    <tr>\n",
       "      <th>2019-06-29</th>\n",
       "      <td>0.012170</td>\n",
       "      <td>-0.003775</td>\n",
       "      <td>-0.119064</td>\n",
       "      <td>0.0</td>\n",
       "    </tr>\n",
       "  </tbody>\n",
       "</table>\n",
       "</div>"
      ],
      "text/plain": [
       "               price  minimum_nights  maximum_nights  fringe_period\n",
       "date                                                               \n",
       "2019-06-25       NaN             NaN             NaN            NaN\n",
       "2019-06-26 -0.029099        0.095993       -5.405166            0.0\n",
       "2019-06-27  0.001743        0.006116       -0.033296            0.0\n",
       "2019-06-28  0.065883        0.035259       -0.086674            0.0\n",
       "2019-06-29  0.012170       -0.003775       -0.119064            0.0"
      ]
     },
     "execution_count": 26,
     "metadata": {},
     "output_type": "execute_result"
    }
   ],
   "source": [
    "## Stationarise using .diff():\n",
    "\n",
    "diff_calendar_ave = calendar_ave.diff()\n",
    "diff_calendar_ave.head()\n",
    "\n",
    "## Look at perentage change for target variable only:\n",
    "\n",
    "diff_calendar_ave['price'] = calendar_ave['price'].pct_change()\n",
    "diff_calendar_ave.head()\n"
   ]
  },
  {
   "cell_type": "code",
   "execution_count": 27,
   "id": "d831a05c",
   "metadata": {
    "tags": []
   },
   "outputs": [],
   "source": [
    "# diff_calendar_ave.isnull().sum() # Only the first values"
   ]
  },
  {
   "cell_type": "markdown",
   "id": "b4123e40",
   "metadata": {},
   "source": [
    "### 2.3 Output correlation:"
   ]
  },
  {
   "cell_type": "code",
   "execution_count": 28,
   "id": "bdef652b",
   "metadata": {},
   "outputs": [
    {
     "data": {
      "text/html": [
       "<div>\n",
       "<style scoped>\n",
       "    .dataframe tbody tr th:only-of-type {\n",
       "        vertical-align: middle;\n",
       "    }\n",
       "\n",
       "    .dataframe tbody tr th {\n",
       "        vertical-align: top;\n",
       "    }\n",
       "\n",
       "    .dataframe thead th {\n",
       "        text-align: right;\n",
       "    }\n",
       "</style>\n",
       "<table border=\"1\" class=\"dataframe\">\n",
       "  <thead>\n",
       "    <tr style=\"text-align: right;\">\n",
       "      <th></th>\n",
       "      <th>price</th>\n",
       "      <th>minimum_nights</th>\n",
       "      <th>maximum_nights</th>\n",
       "      <th>fringe_period</th>\n",
       "    </tr>\n",
       "  </thead>\n",
       "  <tbody>\n",
       "    <tr>\n",
       "      <th>price</th>\n",
       "      <td>1.000000</td>\n",
       "      <td>0.478998</td>\n",
       "      <td>-0.053973</td>\n",
       "      <td>0.352115</td>\n",
       "    </tr>\n",
       "    <tr>\n",
       "      <th>minimum_nights</th>\n",
       "      <td>0.478998</td>\n",
       "      <td>1.000000</td>\n",
       "      <td>0.526176</td>\n",
       "      <td>0.139633</td>\n",
       "    </tr>\n",
       "    <tr>\n",
       "      <th>maximum_nights</th>\n",
       "      <td>-0.053973</td>\n",
       "      <td>0.526176</td>\n",
       "      <td>1.000000</td>\n",
       "      <td>-0.001912</td>\n",
       "    </tr>\n",
       "    <tr>\n",
       "      <th>fringe_period</th>\n",
       "      <td>0.352115</td>\n",
       "      <td>0.139633</td>\n",
       "      <td>-0.001912</td>\n",
       "      <td>1.000000</td>\n",
       "    </tr>\n",
       "  </tbody>\n",
       "</table>\n",
       "</div>"
      ],
      "text/plain": [
       "                   price  minimum_nights  maximum_nights  fringe_period\n",
       "price           1.000000        0.478998       -0.053973       0.352115\n",
       "minimum_nights  0.478998        1.000000        0.526176       0.139633\n",
       "maximum_nights -0.053973        0.526176        1.000000      -0.001912\n",
       "fringe_period   0.352115        0.139633       -0.001912       1.000000"
      ]
     },
     "execution_count": 28,
     "metadata": {},
     "output_type": "execute_result"
    }
   ],
   "source": [
    "## Check correlation with dummy variable:\n",
    "corr_matrix = diff_calendar_ave.corr()\n",
    "corr_matrix"
   ]
  },
  {
   "cell_type": "code",
   "execution_count": 29,
   "id": "06ca0d58",
   "metadata": {},
   "outputs": [
    {
     "data": {
      "image/png": "[encoded data removed]",
      "text/plain": [
       "<Figure size 432x288 with 2 Axes>"
      ]
     },
     "metadata": {},
     "output_type": "display_data"
    }
   ],
   "source": [
    "## Output as visualisation:\n",
    "sns.heatmap(corr_matrix, annot=True, fmt=\".2f\");"
   ]
  },
  {
   "cell_type": "markdown",
   "id": "2837e02a",
   "metadata": {},
   "source": [
    "Highest correlation with minimum number of nights. Look more closely at correlation between the dummy fringe variable and the average price:"
   ]
  },
  {
   "cell_type": "code",
   "execution_count": 30,
   "id": "48c982ed",
   "metadata": {},
   "outputs": [],
   "source": [
    "# sns.jointplot(data=diff_calendar_ave.dropna(), x='fringe_period', y='price', kind=\"reg\", ci=None)"
   ]
  },
  {
   "cell_type": "code",
   "execution_count": 31,
   "id": "64f192fe",
   "metadata": {},
   "outputs": [
    {
     "name": "stderr",
     "output_type": "stream",
     "text": [
      "c:\\dev\\.conda\\envs\\jupyter-lab\\lib\\site-packages\\ipykernel_launcher.py:24: UserWarning: Boolean Series key will be reindexed to match DataFrame index.\n"
     ]
    },
    {
     "data": {
      "image/png": "[encoded data removed]",
      "text/plain": [
       "<Figure size 576x576 with 1 Axes>"
      ]
     },
     "metadata": {},
     "output_type": "display_data"
    }
   ],
   "source": [
    "# print(plt.style.available)\n",
    "plt.style.use('seaborn-muted')\n",
    "\n",
    "fig, ax = plt.subplots(figsize=(8,8))\n",
    "ax.set_xlabel('Change in Fringe Period',fontsize=12)\n",
    "ax.set_ylabel('% Change in Average Price',fontsize=12)\n",
    "\n",
    "scatter_data = diff_calendar_ave.dropna()\n",
    "x_var = 'fringe_period'\n",
    "y_var = 'price'\n",
    "\n",
    "y_min = 0.09\n",
    "x_max = 1.2\n",
    "\n",
    "ax.scatter(scatter_data[x_var],scatter_data[y_var],color='black',s=15, label='data')\n",
    "ax.set_xlim([-1.2,1.5])\n",
    "\n",
    "coefficients = np.polyfit(scatter_data[x_var],scatter_data[y_var], deg=1)\n",
    "fit=np.poly1d(coefficients)\n",
    "# ax.plot(fit)\n",
    "ax.plot(scatter_data[x_var], fit(scatter_data[x_var]), label=f'fit of y = {round(coefficients[0], 2)}x + {round(coefficients[1], 2)}')\n",
    "ax.legend(loc='lower right')\n",
    "\n",
    "highval_dates = scatter_data[np.abs(scatter_data[y_var])>y_min][np.abs(scatter_data[x_var])<=x_max].index\n",
    "#     print(highval_dates)\n",
    "for i in highval_dates:\n",
    "    plt.annotate(i.strftime('%Y-%m-%d'), # this is the text\n",
    "                 (scatter_data.loc[i,x_var],scatter_data.loc[i,y_var]), # this is the point to label\n",
    "                 textcoords=\"offset points\", # how to position the text\n",
    "                 xytext=(10,0), # distance from text to points (x,y)\n",
    "                 ha='left') # horizontal alignment can be left, right or center"
   ]
  },
  {
   "cell_type": "markdown",
   "id": "a8e93160",
   "metadata": {},
   "source": [
    "Here we can see that the most extreme outliers in change in price are accounted for by the Fringe festival, which takes place (mainly) in August. Judging by the linear fit, you could expect to charge around 15% more per night during the fringe festival."
   ]
  },
  {
   "cell_type": "markdown",
   "id": "70dc7930",
   "metadata": {},
   "source": [
    "We can also see that the next most extreme outliers in change in price are accounted for by the new year (Hogmany), as well as early August - which is festival time. Clearly, if you wish to make the most money but can only rent out your house once a year, choose August rather than new year to do so!"
   ]
  },
  {
   "cell_type": "markdown",
   "id": "4e72bf13",
   "metadata": {},
   "source": [
    "## 3. Question 2: What other factors are important?\n",
    "What type of property charges the most, and where is it located? Is the optimum location different for different kinds of properties?"
   ]
  },
  {
   "cell_type": "markdown",
   "id": "a5c5b413",
   "metadata": {},
   "source": [
    "### 3.1 Prepare dataset of calendar information and listing information"
   ]
  },
  {
   "cell_type": "code",
   "execution_count": 32,
   "id": "e4ca6ba2",
   "metadata": {},
   "outputs": [],
   "source": [
    "## Take pre-covid only:----------------------------------------------------------------------------------\n",
    "calendardf2 = calendardf[calendardf.index <= '2021-05-01']"
   ]
  },
  {
   "cell_type": "code",
   "execution_count": 33,
   "id": "880bbf08",
   "metadata": {},
   "outputs": [
    {
     "name": "stderr",
     "output_type": "stream",
     "text": [
      "c:\\dev\\.conda\\envs\\jupyter-lab\\lib\\site-packages\\ipykernel_launcher.py:9: FutureWarning: Indexing with multiple keys (implicitly converted to a tuple of keys) will be deprecated, use a list instead.\n",
      "  if __name__ == '__main__':\n",
      "c:\\dev\\.conda\\envs\\jupyter-lab\\lib\\site-packages\\ipykernel_launcher.py:23: FutureWarning: Indexing with multiple keys (implicitly converted to a tuple of keys) will be deprecated, use a list instead.\n"
     ]
    }
   ],
   "source": [
    "## Group both datasets together by listing id:-----------------------------------------------------------\n",
    "\n",
    "## Calendar data:----------------------------------------------------------------------------------------\n",
    "\n",
    "## Set index\n",
    "calendardf2 = calendardf2.set_index('listing_id').sort_index()\n",
    "\n",
    "## Group to listing level:\n",
    "calendar_ave2 = calendardf2.groupby(calendardf2.index)['price','minimum_nights','maximum_nights'].mean()\n",
    "# calendar_ave2.head(5)\n",
    "# calendar_ave2.isnull().sum()\n",
    "\n",
    "## Listing data:-----------------------------------------------------------------------------------------\n",
    "\n",
    "## sort index to match for join:\n",
    "listingsdf.rename(columns = {'id':'listing_id'}, inplace = True)\n",
    "listingsdf = listingsdf.set_index('listing_id').sort_index()\n",
    "\n",
    "## Fill missing numeric data with 0s:\n",
    "listingsdf[['bathrooms','bedrooms','beds']] = listingsdf[['bathrooms','bedrooms','beds']].fillna(0)\n",
    "\n",
    "## Group to listing level, numeric columns should all be the same, take max to avoid 0s:\n",
    "listings_ave = listingsdf.groupby(listingsdf.index)['neighbourhood_cleansed', 'property_type', 'room_type', 'accommodates', 'bathrooms', 'bedrooms', 'beds'].max()\n",
    "# listings_ave.head(5)\n",
    "# listings_ave.isnull().sum()\n",
    "\n",
    "## Join together:----------------------------------------------------------------------------------------\n",
    "\n",
    "all_features = listings_ave.join(calendar_ave2, how='inner')\n",
    "# all_features.head(5)\n",
    "# all_features.info()\n",
    "# all_features.isnull().sum()"
   ]
  },
  {
   "cell_type": "code",
   "execution_count": 34,
   "id": "be2477b4",
   "metadata": {},
   "outputs": [
    {
     "data": {
      "image/png": "[encoded data removed]",
      "text/plain": [
       "<Figure size 432x288 with 9 Axes>"
      ]
     },
     "metadata": {},
     "output_type": "display_data"
    }
   ],
   "source": [
    "all_features.hist();"
   ]
  },
  {
   "cell_type": "code",
   "execution_count": 35,
   "id": "13693f65",
   "metadata": {},
   "outputs": [],
   "source": [
    "## Checks\n",
    "# for col in all_features.columns:\n",
    "#     print(f'{col} ranges from {min(all_features[col])} to {max(all_features[col])}')\n",
    "\n",
    "## Some very high prices\n",
    "# all_features[all_features['price']==13833.06329113924] # listing id = 40104817\n",
    "# all_features[all_features['price']==13287.6230248307] # listing id = 21837493\n",
    "\n",
    "## check starting table:\n",
    "# listingsdf[listingsdf.index==21837493]\n",
    "# calendardf[calendardf['listing_id']==40104817]\n",
    "\n",
    "## If dropped, is it the only outlier?\n",
    "# all_features = all_features[all_features.index != 40104817]\n",
    "## no\n",
    "\n",
    "## These are real property, (though in the first case it doesn't seem to ever have been rented - response rate 0%, no reviews)\n",
    "## Despite seemingly outlier price, there are others that are also very expensive - they will be kept in\n",
    "\n",
    "## Also some very high min/max nights:\n",
    "# all_features[all_features['minimum_nights']==1000.0] # listing id = 5508519 - can't find this one\n",
    "# all_features[all_features['maximum_nights']==3600.0] # listing id = 3686202 - this one is never available\n",
    "# listingsdf[listingsdf.index==3686202]\n",
    "# calendardf[calendardf['listing_id']==3686202]"
   ]
  },
  {
   "cell_type": "code",
   "execution_count": 36,
   "id": "90907d95",
   "metadata": {
    "tags": []
   },
   "outputs": [
    {
     "data": {
      "text/html": [
       "<div>\n",
       "<style scoped>\n",
       "    .dataframe tbody tr th:only-of-type {\n",
       "        vertical-align: middle;\n",
       "    }\n",
       "\n",
       "    .dataframe tbody tr th {\n",
       "        vertical-align: top;\n",
       "    }\n",
       "\n",
       "    .dataframe thead th {\n",
       "        text-align: right;\n",
       "    }\n",
       "</style>\n",
       "<table border=\"1\" class=\"dataframe\">\n",
       "  <thead>\n",
       "    <tr style=\"text-align: right;\">\n",
       "      <th></th>\n",
       "      <th>neighbourhood_cleansed</th>\n",
       "      <th>property_type</th>\n",
       "      <th>room_type</th>\n",
       "      <th>accommodates</th>\n",
       "      <th>bathrooms</th>\n",
       "      <th>bedrooms</th>\n",
       "      <th>beds</th>\n",
       "      <th>price</th>\n",
       "      <th>minimum_nights</th>\n",
       "      <th>maximum_nights</th>\n",
       "    </tr>\n",
       "    <tr>\n",
       "      <th>listing_id</th>\n",
       "      <th></th>\n",
       "      <th></th>\n",
       "      <th></th>\n",
       "      <th></th>\n",
       "      <th></th>\n",
       "      <th></th>\n",
       "      <th></th>\n",
       "      <th></th>\n",
       "      <th></th>\n",
       "      <th></th>\n",
       "    </tr>\n",
       "  </thead>\n",
       "  <tbody>\n",
       "    <tr>\n",
       "      <th>15420</th>\n",
       "      <td>Old Town, Princes Street and Leith Street</td>\n",
       "      <td>Entire apartment</td>\n",
       "      <td>Entire home/apt</td>\n",
       "      <td>2</td>\n",
       "      <td>0.0</td>\n",
       "      <td>1.0</td>\n",
       "      <td>1.0</td>\n",
       "      <td>103.375185</td>\n",
       "      <td>2.963072</td>\n",
       "      <td>30.000000</td>\n",
       "    </tr>\n",
       "    <tr>\n",
       "      <th>24288</th>\n",
       "      <td>Canongate, Southside and Dumbiedykes</td>\n",
       "      <td>Loft</td>\n",
       "      <td>Entire home/apt</td>\n",
       "      <td>4</td>\n",
       "      <td>1.5</td>\n",
       "      <td>2.0</td>\n",
       "      <td>2.0</td>\n",
       "      <td>101.882440</td>\n",
       "      <td>2.000000</td>\n",
       "      <td>777.797619</td>\n",
       "    </tr>\n",
       "    <tr>\n",
       "      <th>38628</th>\n",
       "      <td>Joppa</td>\n",
       "      <td>Entire apartment</td>\n",
       "      <td>Entire home/apt</td>\n",
       "      <td>2</td>\n",
       "      <td>0.0</td>\n",
       "      <td>1.0</td>\n",
       "      <td>0.0</td>\n",
       "      <td>51.494083</td>\n",
       "      <td>4.091716</td>\n",
       "      <td>641.338757</td>\n",
       "    </tr>\n",
       "    <tr>\n",
       "      <th>44009</th>\n",
       "      <td>Marchmont East and Sciennes</td>\n",
       "      <td>Private room in apartment</td>\n",
       "      <td>Private room</td>\n",
       "      <td>2</td>\n",
       "      <td>0.0</td>\n",
       "      <td>1.0</td>\n",
       "      <td>1.0</td>\n",
       "      <td>45.000000</td>\n",
       "      <td>2.000000</td>\n",
       "      <td>10.000000</td>\n",
       "    </tr>\n",
       "    <tr>\n",
       "      <th>44552</th>\n",
       "      <td>South Leith</td>\n",
       "      <td>Private room in condominium</td>\n",
       "      <td>Private room</td>\n",
       "      <td>2</td>\n",
       "      <td>0.0</td>\n",
       "      <td>1.0</td>\n",
       "      <td>1.0</td>\n",
       "      <td>32.137371</td>\n",
       "      <td>1.454948</td>\n",
       "      <td>21.000000</td>\n",
       "    </tr>\n",
       "  </tbody>\n",
       "</table>\n",
       "</div>"
      ],
      "text/plain": [
       "                               neighbourhood_cleansed  \\\n",
       "listing_id                                              \n",
       "15420       Old Town, Princes Street and Leith Street   \n",
       "24288            Canongate, Southside and Dumbiedykes   \n",
       "38628                                           Joppa   \n",
       "44009                     Marchmont East and Sciennes   \n",
       "44552                                     South Leith   \n",
       "\n",
       "                          property_type        room_type  accommodates  \\\n",
       "listing_id                                                               \n",
       "15420                  Entire apartment  Entire home/apt             2   \n",
       "24288                              Loft  Entire home/apt             4   \n",
       "38628                  Entire apartment  Entire home/apt             2   \n",
       "44009         Private room in apartment     Private room             2   \n",
       "44552       Private room in condominium     Private room             2   \n",
       "\n",
       "            bathrooms  bedrooms  beds       price  minimum_nights  \\\n",
       "listing_id                                                          \n",
       "15420             0.0       1.0   1.0  103.375185        2.963072   \n",
       "24288             1.5       2.0   2.0  101.882440        2.000000   \n",
       "38628             0.0       1.0   0.0   51.494083        4.091716   \n",
       "44009             0.0       1.0   1.0   45.000000        2.000000   \n",
       "44552             0.0       1.0   1.0   32.137371        1.454948   \n",
       "\n",
       "            maximum_nights  \n",
       "listing_id                  \n",
       "15420            30.000000  \n",
       "24288           777.797619  \n",
       "38628           641.338757  \n",
       "44009            10.000000  \n",
       "44552            21.000000  "
      ]
     },
     "execution_count": 36,
     "metadata": {},
     "output_type": "execute_result"
    }
   ],
   "source": [
    "all_features.head(5)"
   ]
  },
  {
   "cell_type": "code",
   "execution_count": 37,
   "id": "c9d8c6a7",
   "metadata": {
    "tags": []
   },
   "outputs": [
    {
     "name": "stdout",
     "output_type": "stream",
     "text": [
      "<class 'pandas.core.frame.DataFrame'>\n",
      "Int64Index: 16756 entries, 15420 to 48536660\n",
      "Data columns (total 10 columns):\n",
      " #   Column                  Non-Null Count  Dtype  \n",
      "---  ------                  --------------  -----  \n",
      " 0   neighbourhood_cleansed  16756 non-null  object \n",
      " 1   property_type           16756 non-null  object \n",
      " 2   room_type               16756 non-null  object \n",
      " 3   accommodates            16756 non-null  int64  \n",
      " 4   bathrooms               16756 non-null  float64\n",
      " 5   bedrooms                16756 non-null  float64\n",
      " 6   beds                    16756 non-null  float64\n",
      " 7   price                   16756 non-null  float64\n",
      " 8   minimum_nights          16756 non-null  float64\n",
      " 9   maximum_nights          16756 non-null  float64\n",
      "dtypes: float64(6), int64(1), object(3)\n",
      "memory usage: 1.9+ MB\n"
     ]
    }
   ],
   "source": [
    "all_features.info()"
   ]
  },
  {
   "cell_type": "code",
   "execution_count": 38,
   "id": "a50b7e75",
   "metadata": {
    "tags": []
   },
   "outputs": [
    {
     "data": {
      "text/plain": [
       "neighbourhood_cleansed    0\n",
       "property_type             0\n",
       "room_type                 0\n",
       "accommodates              0\n",
       "bathrooms                 0\n",
       "bedrooms                  0\n",
       "beds                      0\n",
       "price                     0\n",
       "minimum_nights            0\n",
       "maximum_nights            0\n",
       "dtype: int64"
      ]
     },
     "execution_count": 38,
     "metadata": {},
     "output_type": "execute_result"
    }
   ],
   "source": [
    "all_features.isnull().sum()"
   ]
  },
  {
   "cell_type": "markdown",
   "id": "12345f25",
   "metadata": {},
   "source": [
    "Accommodates seems to be most highly correlated - as expected - though low values for correlation could be explained by non-linear relationships. Investigate these using GBM and partial dependence plots."
   ]
  },
  {
   "cell_type": "markdown",
   "id": "c8574137",
   "metadata": {},
   "source": [
    "### 3.2 Prepare categorical variables"
   ]
  },
  {
   "cell_type": "code",
   "execution_count": 39,
   "id": "860e4d74",
   "metadata": {},
   "outputs": [
    {
     "name": "stdout",
     "output_type": "stream",
     "text": [
      "neighbourhood_cleansed has 111 unique entries\n",
      "property_type has 72 unique entries\n",
      "room_type has 4 unique entries\n",
      "number of observations in dataset = 16756\n"
     ]
    }
   ],
   "source": [
    "## Get number of unique values for each categorical column:----------------------------------------------\n",
    "\n",
    "cat_cols = all_features.select_dtypes(include=['object']).copy()\n",
    "cat_list = []\n",
    "for col in cat_cols.columns:\n",
    "    cat_list.append(col)\n",
    "    print(f'{col} has {len(all_features[col].unique())} unique entries')\n",
    "print(f'number of observations in dataset = {all_features.shape[0]}')"
   ]
  },
  {
   "cell_type": "markdown",
   "id": "8cbf9d4c",
   "metadata": {},
   "source": [
    "This will produce a lot of dummy columns - could potentially be too many columns given the number of observations"
   ]
  },
  {
   "cell_type": "code",
   "execution_count": 40,
   "id": "2df5652d",
   "metadata": {
    "tags": []
   },
   "outputs": [
    {
     "name": "stdout",
     "output_type": "stream",
     "text": [
      "number of columns = 194\n"
     ]
    }
   ],
   "source": [
    "## Get dummies for categorical features:-----------------------------------------------------------------\n",
    "\n",
    "all_features_dummies = pd.get_dummies(all_features, prefix=cat_list)\n",
    "all_features_dummies.head(5)\n",
    "\n",
    "print(f'number of columns = {all_features_dummies.shape[1]}')"
   ]
  },
  {
   "cell_type": "markdown",
   "id": "57fa86ce",
   "metadata": {},
   "source": [
    "Still have way more rows than columns - should be OK"
   ]
  },
  {
   "cell_type": "markdown",
   "id": "b3113b16",
   "metadata": {},
   "source": [
    "### 3.3 Output correlation"
   ]
  },
  {
   "cell_type": "code",
   "execution_count": 41,
   "id": "219d8c66",
   "metadata": {
    "tags": []
   },
   "outputs": [],
   "source": [
    "## Too many columns to output as table or heatmap. Pull top 10 instead-----------------------------------\n",
    "\n",
    "## First split predictor cols from target (price):-------------------------------------------------------\n",
    "df = all_features_dummies.loc[ : , all_features_dummies.columns != 'price']\n",
    "predictor_cols = []\n",
    "for col in df.columns:\n",
    "    predictor_cols.append(col)\n",
    "# predictor_cols\n",
    "\n",
    "## Check correlation with price:-------------------------------------------------------------------------\n",
    "\n",
    "## Create empty df\n",
    "df_corr = pd.DataFrame(index=predictor_cols, columns=(['price'])) \n",
    "df_corr.head(5)\n",
    "df_corr.columns\n",
    "\n",
    "## Populate dataframe with correlation\n",
    "corr_matrix = all_features_dummies.corr()\n",
    "df_corr['price']=corr_matrix['price']\n",
    "\n",
    "## Get absolute values\n",
    "df_corr['price_abs']=abs(corr_matrix['price'])"
   ]
  },
  {
   "cell_type": "code",
   "execution_count": 42,
   "id": "449b8b20",
   "metadata": {
    "tags": []
   },
   "outputs": [
    {
     "data": {
      "text/html": [
       "<div>\n",
       "<style scoped>\n",
       "    .dataframe tbody tr th:only-of-type {\n",
       "        vertical-align: middle;\n",
       "    }\n",
       "\n",
       "    .dataframe tbody tr th {\n",
       "        vertical-align: top;\n",
       "    }\n",
       "\n",
       "    .dataframe thead th {\n",
       "        text-align: right;\n",
       "    }\n",
       "</style>\n",
       "<table border=\"1\" class=\"dataframe\">\n",
       "  <thead>\n",
       "    <tr style=\"text-align: right;\">\n",
       "      <th></th>\n",
       "      <th>price</th>\n",
       "      <th>price_abs</th>\n",
       "    </tr>\n",
       "  </thead>\n",
       "  <tbody>\n",
       "    <tr>\n",
       "      <th>accommodates</th>\n",
       "      <td>0.197514</td>\n",
       "      <td>0.197514</td>\n",
       "    </tr>\n",
       "    <tr>\n",
       "      <th>bedrooms</th>\n",
       "      <td>0.162463</td>\n",
       "      <td>0.162463</td>\n",
       "    </tr>\n",
       "    <tr>\n",
       "      <th>beds</th>\n",
       "      <td>0.159415</td>\n",
       "      <td>0.159415</td>\n",
       "    </tr>\n",
       "    <tr>\n",
       "      <th>room_type_Private room</th>\n",
       "      <td>-0.114583</td>\n",
       "      <td>0.114583</td>\n",
       "    </tr>\n",
       "    <tr>\n",
       "      <th>room_type_Entire home/apt</th>\n",
       "      <td>0.106812</td>\n",
       "      <td>0.106812</td>\n",
       "    </tr>\n",
       "    <tr>\n",
       "      <th>property_type_Room in serviced apartment</th>\n",
       "      <td>0.059296</td>\n",
       "      <td>0.059296</td>\n",
       "    </tr>\n",
       "    <tr>\n",
       "      <th>property_type_Hostel</th>\n",
       "      <td>0.056728</td>\n",
       "      <td>0.056728</td>\n",
       "    </tr>\n",
       "    <tr>\n",
       "      <th>bathrooms</th>\n",
       "      <td>0.056198</td>\n",
       "      <td>0.056198</td>\n",
       "    </tr>\n",
       "    <tr>\n",
       "      <th>neighbourhood_cleansed_Deans Village</th>\n",
       "      <td>0.048863</td>\n",
       "      <td>0.048863</td>\n",
       "    </tr>\n",
       "    <tr>\n",
       "      <th>neighbourhood_cleansed_Leith (Albert Street)</th>\n",
       "      <td>0.048389</td>\n",
       "      <td>0.048389</td>\n",
       "    </tr>\n",
       "    <tr>\n",
       "      <th>property_type_Entire apartment</th>\n",
       "      <td>0.045002</td>\n",
       "      <td>0.045002</td>\n",
       "    </tr>\n",
       "    <tr>\n",
       "      <th>neighbourhood_cleansed_Old Town, Princes Street and Leith Street</th>\n",
       "      <td>0.043423</td>\n",
       "      <td>0.043423</td>\n",
       "    </tr>\n",
       "    <tr>\n",
       "      <th>property_type_Private room in apartment</th>\n",
       "      <td>-0.038028</td>\n",
       "      <td>0.038028</td>\n",
       "    </tr>\n",
       "    <tr>\n",
       "      <th>room_type_Hotel room</th>\n",
       "      <td>0.034758</td>\n",
       "      <td>0.034758</td>\n",
       "    </tr>\n",
       "    <tr>\n",
       "      <th>neighbourhood_cleansed_The Calders</th>\n",
       "      <td>0.030926</td>\n",
       "      <td>0.030926</td>\n",
       "    </tr>\n",
       "    <tr>\n",
       "      <th>property_type_Private room in house</th>\n",
       "      <td>-0.029784</td>\n",
       "      <td>0.029784</td>\n",
       "    </tr>\n",
       "    <tr>\n",
       "      <th>property_type_Entire condominium</th>\n",
       "      <td>0.027863</td>\n",
       "      <td>0.027863</td>\n",
       "    </tr>\n",
       "    <tr>\n",
       "      <th>property_type_Apartment</th>\n",
       "      <td>-0.025993</td>\n",
       "      <td>0.025993</td>\n",
       "    </tr>\n",
       "    <tr>\n",
       "      <th>property_type_Farm stay</th>\n",
       "      <td>0.024178</td>\n",
       "      <td>0.024178</td>\n",
       "    </tr>\n",
       "    <tr>\n",
       "      <th>neighbourhood_cleansed_Dalry and Fountainbridge</th>\n",
       "      <td>0.024088</td>\n",
       "      <td>0.024088</td>\n",
       "    </tr>\n",
       "  </tbody>\n",
       "</table>\n",
       "</div>"
      ],
      "text/plain": [
       "                                                       price  price_abs\n",
       "accommodates                                        0.197514   0.197514\n",
       "bedrooms                                            0.162463   0.162463\n",
       "beds                                                0.159415   0.159415\n",
       "room_type_Private room                             -0.114583   0.114583\n",
       "room_type_Entire home/apt                           0.106812   0.106812\n",
       "property_type_Room in serviced apartment            0.059296   0.059296\n",
       "property_type_Hostel                                0.056728   0.056728\n",
       "bathrooms                                           0.056198   0.056198\n",
       "neighbourhood_cleansed_Deans Village                0.048863   0.048863\n",
       "neighbourhood_cleansed_Leith (Albert Street)        0.048389   0.048389\n",
       "property_type_Entire apartment                      0.045002   0.045002\n",
       "neighbourhood_cleansed_Old Town, Princes Street...  0.043423   0.043423\n",
       "property_type_Private room in apartment            -0.038028   0.038028\n",
       "room_type_Hotel room                                0.034758   0.034758\n",
       "neighbourhood_cleansed_The Calders                  0.030926   0.030926\n",
       "property_type_Private room in house                -0.029784   0.029784\n",
       "property_type_Entire condominium                    0.027863   0.027863\n",
       "property_type_Apartment                            -0.025993   0.025993\n",
       "property_type_Farm stay                             0.024178   0.024178\n",
       "neighbourhood_cleansed_Dalry and Fountainbridge     0.024088   0.024088"
      ]
     },
     "execution_count": 42,
     "metadata": {},
     "output_type": "execute_result"
    }
   ],
   "source": [
    "## Display top features\n",
    "df_corr.sort_values('price_abs',ascending=False).head(20)"
   ]
  },
  {
   "cell_type": "markdown",
   "id": "9940c426",
   "metadata": {},
   "source": [
    "Accommodates, bedrooms and beds seem to be most highly correlated - as could be expected - though low values for correlation could be explained by non-linear relationships. Could investigate these using GBM and partial dependence plots. <br>\n",
    "Private rooms/entire home etc seem to be correlated to higher price. <br>\n",
    "Dean's Village seems to be a pricy area to rent - this is where the outlier found earlier was, could be due to that. <br>"
   ]
  },
  {
   "cell_type": "markdown",
   "id": "3117e0d8",
   "metadata": {},
   "source": [
    "## 4. Question 3: How much should you charge?\n",
    "With all that we now know, can we predict price based on property details?"
   ]
  },
  {
   "cell_type": "markdown",
   "id": "e98af8f1",
   "metadata": {},
   "source": [
    "### 4.1 Ordinary Least Squares"
   ]
  },
  {
   "cell_type": "code",
   "execution_count": 52,
   "id": "379e3aff",
   "metadata": {},
   "outputs": [
    {
     "name": "stdout",
     "output_type": "stream",
     "text": [
      "The training r-squared score for the model was 0.06720115684674177 on 11729 values.\n",
      "The test r-squared score for the model was 0.051572152097446144 on 5027 values.\n",
      "The average price in train is 129.0548173830727\n",
      "The MAE in train is 81.73783862650141\n",
      "The average price in test is 120.83739430486824\n",
      "The MAE in test is 77.99976049413549\n"
     ]
    }
   ],
   "source": [
    "## Train model:------------------------------------------------------------------------------------------\n",
    "\n",
    "#Split into explanatory and response variables\n",
    "X = sm.add_constant(all_features_dummies[predictor_cols])\n",
    "# X = all_features_dummies[predictor_cols]\n",
    "y = all_features_dummies['price']\n",
    "\n",
    "#Split into train and test\n",
    "X_train, X_test, y_train, y_test = train_test_split(X, y, test_size = .30, random_state=42) \n",
    "\n",
    "model = sm.OLS(y_train, X_train).fit()\n",
    "       \n",
    "## Predict and score the model:--------------------------------------------------------------------------\n",
    "#Predict and score the model\n",
    "y_train_preds = model.predict(X_train)\n",
    "y_test_preds = model.predict(X_test) \n",
    "print(f'The training r-squared score for the model was {r2_score(y_train, y_train_preds)} on {len(y_train)} values.')\n",
    "print(f'The test r-squared score for the model was {r2_score(y_test, y_test_preds)} on {len(y_test)} values.')\n",
    "\n",
    "print(f'The average price in train is {np.mean(y_train)}')\n",
    "print(f'The MAE in train is {np.mean(np.abs(y_train - y_train_preds))}')\n",
    "print(f'The average price in test is {np.mean(y_test)}')\n",
    "print(f'The MAE in test is {np.mean(np.abs(y_test - y_test_preds))}')"
   ]
  },
  {
   "cell_type": "markdown",
   "id": "5a23047f",
   "metadata": {},
   "source": [
    "MAE is high, though train and test perform similarly suggesting overfitting not a large problem. <br>\n",
    "Try regularisation to see if it improves"
   ]
  },
  {
   "cell_type": "code",
   "execution_count": 53,
   "id": "af71278e",
   "metadata": {},
   "outputs": [
    {
     "name": "stdout",
     "output_type": "stream",
     "text": [
      "OLS model predicts I should charge $193.9 per night\n"
     ]
    }
   ],
   "source": [
    "## Test on my own house:\n",
    "\n",
    "## Create a dataframe of details of my own house, and populate it as if I was to rent it out\n",
    "my_features = pd.DataFrame(data=np.zeros((1, len(predictor_cols)+1)), index=[1], columns=[['const']+predictor_cols])\n",
    "\n",
    "# all_features['neighbourhood_cleansed'].unique()\n",
    "# all_features['property_type'].unique()\n",
    "# all_features['room_type'].unique()\n",
    "\n",
    "my_features['const'] = 1.0\n",
    "my_features['neighbourhood_cleansed_Dalry and Fountainbridge'] = 1\n",
    "my_features['property_type_Private room in house'] = 1\n",
    "my_features['room_type_Private room'] =1\n",
    "my_features['accommodates'] = 2\n",
    "my_features['bathrooms'] = 1\n",
    "my_features['bedrooms'] = 1.0\n",
    "my_features['beds'] = 1.0\n",
    "my_features['minimum_nights'] = 2.0\n",
    "my_features['maximum_nights'] = 5.0\n",
    "\n",
    "\n",
    "# my_features.head()\n",
    "\n",
    "print(f'OLS model predicts I should charge ${round(model.predict(my_features)[1], 2)} per night')"
   ]
  },
  {
   "cell_type": "markdown",
   "id": "2ad38f18",
   "metadata": {},
   "source": [
    "### 4.2 Ridge Regression"
   ]
  },
  {
   "cell_type": "code",
   "execution_count": 54,
   "id": "e6dde88a",
   "metadata": {},
   "outputs": [
    {
     "name": "stdout",
     "output_type": "stream",
     "text": [
      "The r-squared score for the model on train set was 0.053858918649687615 on 11729 values.\n",
      "The r-squared score for the model on test set was 0.05341836227344965 on 5027 values.\n",
      "The average price in train is 129.0548173830727\n",
      "The MAE in train is 72.87880297034172\n",
      "The average price in test is 120.83739430486824\n",
      "The MAE in test is 68.03041500520787\n"
     ]
    }
   ],
   "source": [
    "model = Ridge(fit_intercept=True, normalize=True) \n",
    "\n",
    "param_search = {'alpha' : np.logspace(-4, 0, num=100, dtype=float)}\n",
    "\n",
    "gsearch = GridSearchCV(estimator=model, param_grid=param_search,scoring='neg_mean_absolute_error',cv=5)\n",
    "gsearch.fit(X_train, y_train)\n",
    "\n",
    "## print best alpha:\n",
    "# print(f'{gsearch.best_params_['alpha']}')\n",
    "\n",
    "model = gsearch.best_estimator_\n",
    "model.fit(X_train, y_train)\n",
    "\n",
    "#Predict and score the model\n",
    "y_train_preds = model.predict(X_train)\n",
    "y_test_preds = model.predict(X_test) \n",
    "print(\"The r-squared score for the model on train set was {} on {} values.\".format(r2_score(y_train, y_train_preds), len(y_train)))\n",
    "print(\"The r-squared score for the model on test set was {} on {} values.\".format(r2_score(y_test, y_test_preds), len(y_test)))\n",
    "\n",
    "print(f'The average price in train is {np.mean(y_train)}')\n",
    "print(f'The MAE in train is {np.mean(np.abs(y_train - y_train_preds))}')\n",
    "print(f'The average price in test is {np.mean(y_test)}')\n",
    "print(f'The MAE in test is {np.mean(np.abs(y_test - y_test_preds))}')"
   ]
  },
  {
   "cell_type": "markdown",
   "id": "5077fbbe",
   "metadata": {},
   "source": [
    "Not a fantastic model but marginally better than previous. If I had more time I would look into engineering better features/including more"
   ]
  },
  {
   "cell_type": "code",
   "execution_count": 55,
   "id": "e027857f",
   "metadata": {},
   "outputs": [
    {
     "name": "stdout",
     "output_type": "stream",
     "text": [
      "Ridge model predicts I should charge $106.33 per night\n"
     ]
    }
   ],
   "source": [
    "## Test on a room in my own house:\n",
    "\n",
    "my_features['const'] = 1.0\n",
    "my_features['neighbourhood_cleansed_Dalry and Fountainbridge'] = 1\n",
    "my_features['property_type_Private room in house'] = 1\n",
    "my_features['room_type_Private room'] =1\n",
    "my_features['accommodates'] = 2\n",
    "my_features['bathrooms'] = 1\n",
    "my_features['bedrooms'] = 1.0\n",
    "my_features['beds'] = 1.0\n",
    "my_features['minimum_nights'] = 2.0\n",
    "my_features['maximum_nights'] = 5.0\n",
    "\n",
    "print(f'Ridge model predicts I should charge ${round(model.predict(my_features)[0], 2)} per night')"
   ]
  },
  {
   "cell_type": "markdown",
   "id": "fed2d86c",
   "metadata": {},
   "source": [
    "Looking at the Airbnb website, houses near me charge from around £50 to around £100 per night, so potentially not bad. May need to include more details like ensuite, parking, wifi etc."
   ]
  },
  {
   "cell_type": "code",
   "execution_count": 56,
   "id": "9554ac9b",
   "metadata": {},
   "outputs": [
    {
     "name": "stdout",
     "output_type": "stream",
     "text": [
      "Ridge model predicts I should charge $122.1 per night with 2 bathrooms\n",
      "Ridge model predicts I should charge $241.36 per night for the entire house\n"
     ]
    }
   ],
   "source": [
    "## How much more if I had an additional bathroom?\n",
    "my_features['bathrooms'] = 2\n",
    "print(f'Ridge model predicts I should charge ${round(model.predict(my_features)[0], 2)} per night with 2 bathrooms')\n",
    "\n",
    "## How much more if I rented out the whole house?\n",
    "my_features['bathrooms'] = 1\n",
    "my_features['bedrooms'] = 3.0\n",
    "my_features['beds'] = 3.0\n",
    "my_features['property_type_Entire townhouse'] = 1\n",
    "my_features['room_type_Entire home/apt'] =1\n",
    "my_features['accommodates'] = 6\n",
    "print(f'Ridge model predicts I should charge ${round(model.predict(my_features)[0], 2)} per night for the entire house')"
   ]
  },
  {
   "cell_type": "markdown",
   "id": "c35928d1",
   "metadata": {
    "tags": []
   },
   "source": [
    "# Evaluation\n",
    "* OLS predicts £137.75, which seems high when looking at listings available nearby. Ridge regression performs better.\n",
    "* Although lower than OLS, given the high test set MAE compared to predictions and average price in the datasets, the Ridge model is not optimal, but a lot more time and would would be required to engineer features, scrape more data from the data source to produce more features, and test out different modelling approaches to improve performance."
   ]
  },
  {
   "cell_type": "markdown",
   "id": "e38b8916",
   "metadata": {},
   "source": [
    "# Deployment\n",
    "* Use the pre-trained model to make custom predictions"
   ]
  },
  {
   "cell_type": "markdown",
   "id": "9497112a",
   "metadata": {},
   "source": [
    "### 4.3 Put in your own details"
   ]
  },
  {
   "cell_type": "code",
   "execution_count": 59,
   "id": "bf744d31",
   "metadata": {
    "collapsed": true,
    "jupyter": {
     "outputs_hidden": true
    },
    "tags": []
   },
   "outputs": [
    {
     "data": {
      "text/plain": [
       "array(['Old Town, Princes Street and Leith Street',\n",
       "       'Canongate, Southside and Dumbiedykes', 'Joppa',\n",
       "       'Marchmont East and Sciennes', 'South Leith', 'New Town West',\n",
       "       'Dalry and Fountainbridge', 'Hillside and Calton Hill',\n",
       "       'Deans Village', 'New Town East and Gayfield',\n",
       "       'North Leith and Newhaven', 'Leith (Albert Street)',\n",
       "       \"Siverknowes and Davidson's Mains\", 'Merchiston and Greenhill',\n",
       "       'Meadowbank and Abbeyhill North', 'Meadows and Southside',\n",
       "       'Leith (Hermitage and Prospect Bank)',\n",
       "       'Jewel, Brunstane and Newcraighall',\n",
       "       'The Shore and Constitution Street',\n",
       "       'Easter Road and Hawkhill Avenue', 'Tollcross',\n",
       "       'Murrayfield and Ravelston', 'Newington and Dalkeith Road',\n",
       "       'Drylaw', 'Broughton South', 'Bonnington', 'Marchmont West',\n",
       "       'Broughton North and Powderhall', 'Oxgangs', 'Portobello',\n",
       "       'Bruntsfield', 'Comiston and Swanston',\n",
       "       'Willowbrae and Duddingston Village', 'Shandon', 'Corstorphine',\n",
       "       'Stockbridge', 'Abbeyhill', 'Prestonfield',\n",
       "       'Barnton, Cammo and Cramond South', 'Granton West and Salvesen',\n",
       "       'Boswall and Pilton', 'Gorgie East',\n",
       "       'Western Harbour and Leith Docks', 'Great Junction Street',\n",
       "       'The Grange', 'Baberton and Juniper Green', 'Polwarth', 'Pilrig',\n",
       "       'Currie East', 'Morningside',\n",
       "       'Blackford, West Mains and Mayfield Road',\n",
       "       'Ratho, Ingliston and Gogar', 'Northfield and Piershill',\n",
       "       'The Inch', 'Balgreen and Roseburn',\n",
       "       'Canonmills and New Town North',\n",
       "       'Craigleith, Orchard Brae and Crewe Toll',\n",
       "       'Inverleith, Goldenacre and Warriston',\n",
       "       'Liberton West and Braid Hills', 'Balerno and Bonnington Village',\n",
       "       'Trinity', 'Morningside and Craighouse',\n",
       "       'Granton and Royston Mains', 'Trinity East and The Dudleys',\n",
       "       'Comely Bank', 'Craigmillar', 'Carrick Knowe', 'Queensferry East',\n",
       "       'Craigentinny', 'Blackhall', 'Dalmeny, Kirkliston and Newbridge',\n",
       "       'West Pilton', 'Muirhouse', 'Colinton and Kingsknowe',\n",
       "       'Gracemount, Southhouse and Burdiehouse', 'Corstorphine South',\n",
       "       'Duddingston and Portobello South', 'Craiglockhart',\n",
       "       'Moredun and Craigour', 'Clermiston and Drumbrae',\n",
       "       'Bonaly and The Pentlands', 'Liberton East',\n",
       "       'Restalrig and Lochend', 'Gilmerton South and the Murrays',\n",
       "       'Slateford and Chesser', 'East Craigs South',\n",
       "       'Greenbank and The Braids', 'Mountcastle',\n",
       "       'Restalrig (Loganlea) and Craigentinny West',\n",
       "       'Fernieside and Moredun South', 'Cramond', 'Gorgie West',\n",
       "       'Colinton Mains and Firrhill', 'Currie West', 'East Craigs North',\n",
       "       'Niddrie', 'Mortonhall and Anwickhill', 'Longstone and Saughton',\n",
       "       'The Calders', 'Stenhouse and Saughton Mains', 'South Gyle',\n",
       "       'Queensferry West', 'Parkhead and Sighthill',\n",
       "       'Granton South and Wardieburn',\n",
       "       'Bingham, Magdalene and The Christians', 'Hyvots and Gilmerton',\n",
       "       'Fairmilehead', 'Murrayburn and Wester Hailes North',\n",
       "       'Corstorphine North', 'Clovenstone and Wester Hailes',\n",
       "       'Broomhouse and Bankhead'], dtype=object)"
      ]
     },
     "execution_count": 59,
     "metadata": {},
     "output_type": "execute_result"
    }
   ],
   "source": [
    "## View the options of inputs:\n",
    "all_features['neighbourhood_cleansed'].unique()"
   ]
  },
  {
   "cell_type": "code",
   "execution_count": 60,
   "id": "2b1994b2",
   "metadata": {
    "collapsed": true,
    "jupyter": {
     "outputs_hidden": true
    },
    "tags": []
   },
   "outputs": [
    {
     "data": {
      "text/plain": [
       "array(['Entire apartment', 'Loft', 'Private room in apartment',\n",
       "       'Private room in condominium', 'Condominium', 'Apartment', 'Boat',\n",
       "       'Entire loft', 'House', 'Private room in bed and breakfast',\n",
       "       'Private room in house', 'Entire condominium', 'Bed and breakfast',\n",
       "       'Private room in guesthouse', 'Room in boutique hotel',\n",
       "       'Entire townhouse', 'Entire villa', 'Private room in townhouse',\n",
       "       'Private room in guest suite', 'Entire house',\n",
       "       'Entire serviced apartment', 'Room in serviced apartment',\n",
       "       'Townhouse', 'Private room in bungalow', 'Cottage',\n",
       "       'Entire guest suite', 'Entire cottage', 'Villa', 'Other',\n",
       "       'Serviced apartment', 'Bungalow', 'Entire guesthouse',\n",
       "       'Boutique hotel', 'Hostel', 'Shared room in hostel',\n",
       "       'Private room in cottage', 'Camper/RV', 'Guesthouse', 'Campsite',\n",
       "       'Private room in tent', 'Tent', 'Guest suite', 'Private room',\n",
       "       'Room in hostel', 'Entire bungalow', 'Room in hotel', 'Hut',\n",
       "       'Barn', 'Private room in villa', 'Entire chalet',\n",
       "       'Private room in loft', 'Room in aparthotel', 'Tiny house',\n",
       "       'Private room in tiny house', 'Farm stay', 'Shared room in house',\n",
       "       'Cabin', 'Entire place', 'Entire cabin',\n",
       "       'Shared room in apartment', 'Aparthotel', 'Hotel', 'Dome house',\n",
       "       'Private room in hostel', 'Room in bed and breakfast',\n",
       "       'Private room in serviced apartment', 'Private room in resort',\n",
       "       'Windmill', 'Castle', 'Private room in farm stay', 'Yurt',\n",
       "       'Shared room in condominium'], dtype=object)"
      ]
     },
     "execution_count": 60,
     "metadata": {},
     "output_type": "execute_result"
    }
   ],
   "source": [
    "all_features['property_type'].unique()"
   ]
  },
  {
   "cell_type": "code",
   "execution_count": 61,
   "id": "ffa2cc1f",
   "metadata": {},
   "outputs": [
    {
     "data": {
      "text/plain": [
       "array(['Entire home/apt', 'Private room', 'Hotel room', 'Shared room'],\n",
       "      dtype=object)"
      ]
     },
     "execution_count": 61,
     "metadata": {},
     "output_type": "execute_result"
    }
   ],
   "source": [
    "all_features['room_type'].unique()"
   ]
  },
  {
   "cell_type": "code",
   "execution_count": 62,
   "id": "288f3b58",
   "metadata": {},
   "outputs": [
    {
     "name": "stdout",
     "output_type": "stream",
     "text": [
      "Custom Ridge model prediction = $137.47 per night\n"
     ]
    }
   ],
   "source": [
    "## Set feature values accordingly:\n",
    "my_features['const'] = 1.0\n",
    "my_features['neighbourhood_cleansed_Dalry and Fountainbridge'] = 1\n",
    "my_features['property_type_Private room in house'] = 1\n",
    "my_features['room_type_Shared room'] =1\n",
    "my_features['accommodates'] = 2\n",
    "my_features['bathrooms'] = 1\n",
    "my_features['bedrooms'] = 1.0\n",
    "my_features['beds'] = 1.0\n",
    "my_features['minimum_nights'] = 2.0\n",
    "my_features['maximum_nights'] = 5.0\n",
    "\n",
    "## Print prediction:\n",
    "print(f'Custom Ridge model prediction = ${round(model.predict(my_features)[0], 2)} per night')"
   ]
  },
  {
   "cell_type": "markdown",
   "id": "7e9ff079",
   "metadata": {},
   "source": [
    "## Appendix: Other things to look into:\n",
    "* Group together some categories in categorical variables for simplified, more general features, and fewer of them. For example, whole property or not whole property rather than all of the different options\n",
    "* Re-do but taking into account availabilty - does training only on data where the let was booked change the price recommended?\n",
    "* What type of property charges the most, and where is it located? Is the optimum location different for different kinds of properties?\n",
    "* How exactly has all of this changed post-covid?\n",
    "* Look more closely at the very long-term rents and very expensive lets\n",
    "* Compare regression approach with e.g. KNN/Kmeans to predict how much should you charge based on area alone"
   ]
  }
 ],
 "metadata": {
  "kernelspec": {
   "display_name": "jupyter-lab",
   "language": "python",
   "name": "jupyter-lab"
  },
  "language_info": {
   "codemirror_mode": {
    "name": "ipython",
    "version": 3
   },
   "file_extension": ".py",
   "mimetype": "text/x-python",
   "name": "python",
   "nbconvert_exporter": "python",
   "pygments_lexer": "ipython3",
   "version": "3.7.10"
  }
 },
 "nbformat": 4,
 "nbformat_minor": 5
}
